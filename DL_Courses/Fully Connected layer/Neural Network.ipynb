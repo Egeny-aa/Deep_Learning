{
 "cells": [
  {
   "cell_type": "markdown",
   "metadata": {},
   "source": [
    "# Задание 2.1 - Нейронные сети\n",
    "\n",
    "В этом задании вы реализуете и натренируете настоящую нейроную сеть своими руками!\n",
    "\n",
    "В некотором смысле это будет расширением прошлого задания - нам нужно просто составить несколько линейных классификаторов вместе!\n",
    "\n",
    "<img src=\"https://i.redd.it/n9fgba8b0qr01.png\" alt=\"Stack_more_layers\" width=\"400px\"/>"
   ]
  },
  {
   "cell_type": "code",
   "execution_count": 48,
   "metadata": {},
   "outputs": [
    {
     "name": "stdout",
     "output_type": "stream",
     "text": [
      "The autoreload extension is already loaded. To reload it, use:\n",
      "  %reload_ext autoreload\n"
     ]
    },
    {
     "name": "stderr",
     "output_type": "stream",
     "text": [
      "[autoreload of model failed: Traceback (most recent call last):\n",
      "  File \"C:\\Users\\Евгений\\AppData\\Local\\Programs\\Python\\Python310\\lib\\site-packages\\IPython\\extensions\\autoreload.py\", line 257, in check\n",
      "    superreload(m, reload, self.old_objects)\n",
      "  File \"C:\\Users\\Евгений\\AppData\\Local\\Programs\\Python\\Python310\\lib\\site-packages\\IPython\\extensions\\autoreload.py\", line 455, in superreload\n",
      "    module = reload(module)\n",
      "  File \"C:\\Users\\Евгений\\AppData\\Local\\Programs\\Python\\Python310\\lib\\importlib\\__init__.py\", line 169, in reload\n",
      "    _bootstrap._exec(spec, module)\n",
      "  File \"<frozen importlib._bootstrap>\", line 619, in _exec\n",
      "  File \"<frozen importlib._bootstrap_external>\", line 879, in exec_module\n",
      "  File \"<frozen importlib._bootstrap_external>\", line 1017, in get_code\n",
      "  File \"<frozen importlib._bootstrap_external>\", line 947, in source_to_code\n",
      "  File \"<frozen importlib._bootstrap>\", line 241, in _call_with_frames_removed\n",
      "  File \"C:\\Users\\Евгений\\dlcourse_ai\\assignments\\assignment2\\model.py\", line 131\n",
      "    def best_params(self)\n",
      "                         ^\n",
      "SyntaxError: expected ':'\n",
      "]\n"
     ]
    }
   ],
   "source": [
    "import numpy as np\n",
    "import matplotlib.pyplot as plt\n",
    "\n",
    "%matplotlib inline\n",
    "\n",
    "%load_ext autoreload\n",
    "%autoreload 2"
   ]
  },
  {
   "cell_type": "code",
   "execution_count": 49,
   "metadata": {},
   "outputs": [],
   "source": [
    "from dataset import load_svhn, random_split_train_val\n",
    "from gradient_check import check_layer_gradient, check_layer_param_gradient, check_model_gradient\n",
    "from layers import FullyConnectedLayer, ReLULayer\n",
    "from model import TwoLayerNet\n",
    "from trainer import Trainer, Dataset\n",
    "from optim import SGD, MomentumSGD\n",
    "from metrics import multiclass_accuracy"
   ]
  },
  {
   "cell_type": "markdown",
   "metadata": {},
   "source": [
    "# Загружаем данные\n",
    "\n",
    "И разделяем их на training и validation."
   ]
  },
  {
   "cell_type": "code",
   "execution_count": 50,
   "metadata": {},
   "outputs": [
    {
     "name": "stderr",
     "output_type": "stream",
     "text": [
      "C:\\Users\\Евгений\\AppData\\Local\\Temp\\ipykernel_10056\\2810386256.py:2: DeprecationWarning: `np.float` is a deprecated alias for the builtin `float`. To silence this warning, use `float` by itself. Doing this will not modify any behavior and is safe. If you specifically wanted the numpy scalar type, use `np.float64` here.\n",
      "Deprecated in NumPy 1.20; for more details and guidance: https://numpy.org/devdocs/release/1.20.0-notes.html#deprecations\n",
      "  train_flat = train_X.reshape(train_X.shape[0], -1).astype(np.float) / 255.0\n",
      "C:\\Users\\Евгений\\AppData\\Local\\Temp\\ipykernel_10056\\2810386256.py:3: DeprecationWarning: `np.float` is a deprecated alias for the builtin `float`. To silence this warning, use `float` by itself. Doing this will not modify any behavior and is safe. If you specifically wanted the numpy scalar type, use `np.float64` here.\n",
      "Deprecated in NumPy 1.20; for more details and guidance: https://numpy.org/devdocs/release/1.20.0-notes.html#deprecations\n",
      "  test_flat = test_X.reshape(test_X.shape[0], -1).astype(np.float) / 255.0\n"
     ]
    }
   ],
   "source": [
    "def prepare_for_neural_network(train_X, test_X):\n",
    "    train_flat = train_X.reshape(train_X.shape[0], -1).astype(np.float) / 255.0\n",
    "    test_flat = test_X.reshape(test_X.shape[0], -1).astype(np.float) / 255.0\n",
    "    \n",
    "    # Subtract mean\n",
    "    mean_image = np.mean(train_flat, axis = 0)\n",
    "    train_flat -= mean_image\n",
    "    test_flat -= mean_image\n",
    "    \n",
    "    return train_flat, test_flat\n",
    "    \n",
    "train_X, train_y, test_X, test_y = load_svhn(\"data\", max_train=10000, max_test=1000)    \n",
    "train_X, test_X = prepare_for_neural_network(train_X, test_X)\n",
    "# Split train into train and val\n",
    "train_X, train_y, val_X, val_y = random_split_train_val(train_X, train_y, num_val = 1000)"
   ]
  },
  {
   "cell_type": "markdown",
   "metadata": {},
   "source": [
    "# Как всегда, начинаем с кирпичиков\n",
    "\n",
    "Мы будем реализовывать необходимые нам слои по очереди. Каждый слой должен реализовать:\n",
    "- прямой проход (forward pass), который генерирует выход слоя по входу и запоминает необходимые данные\n",
    "- обратный проход (backward pass), который получает градиент по выходу слоя и вычисляет градиент по входу и по параметрам\n",
    "\n",
    "Начнем с ReLU, у которого параметров нет."
   ]
  },
  {
   "cell_type": "code",
   "execution_count": 4,
   "metadata": {
    "scrolled": false
   },
   "outputs": [
    {
     "name": "stdout",
     "output_type": "stream",
     "text": [
      "Gradient check passed!\n"
     ]
    }
   ],
   "source": [
    "# TODO: Implement ReLULayer layer in layers.py\n",
    "# Note: you'll need to copy implementation of the gradient_check function from the previous assignment\n",
    "\n",
    "X = np.array([[1,-2,3],\n",
    "              [-1, 2, 0.1]\n",
    "              ])\n",
    "\n",
    "assert check_layer_gradient(ReLULayer(), X)"
   ]
  },
  {
   "cell_type": "markdown",
   "metadata": {},
   "source": [
    "А теперь реализуем полносвязный слой (fully connected layer), у которого будет два массива параметров: W (weights) и B (bias).\n",
    "\n",
    "Все параметры наши слои будут использовать для параметров специальный класс `Param`, в котором будут храниться значения параметров и градиенты этих параметров, вычисляемые во время обратного прохода.\n",
    "\n",
    "Это даст возможность аккумулировать (суммировать) градиенты из разных частей функции потерь, например, из cross-entropy loss и regularization loss."
   ]
  },
  {
   "cell_type": "code",
   "execution_count": 4,
   "metadata": {},
   "outputs": [
    {
     "name": "stdout",
     "output_type": "stream",
     "text": [
      "Gradient check passed!\n",
      "Gradient check passed!\n",
      "Gradient check passed!\n"
     ]
    }
   ],
   "source": [
    "# TODO: Implement FullyConnected layer forward and backward methods\n",
    "assert check_layer_gradient(FullyConnectedLayer(3, 4), X)\n",
    "# TODO: Implement storing gradients for W and B\n",
    "assert check_layer_param_gradient(FullyConnectedLayer(3, 4), X, 'W')\n",
    "assert check_layer_param_gradient(FullyConnectedLayer(3, 4), X, 'B')"
   ]
  },
  {
   "cell_type": "markdown",
   "metadata": {},
   "source": [
    "## Создаем нейронную сеть\n",
    "\n",
    "Теперь мы реализуем простейшую нейронную сеть с двумя полносвязным слоями и нелинейностью ReLU. Реализуйте функцию `compute_loss_and_gradients`, она должна запустить прямой и обратный проход через оба слоя для вычисления градиентов.\n",
    "\n",
    "Не забудьте реализовать очистку градиентов в начале функции."
   ]
  },
  {
   "cell_type": "code",
   "execution_count": 7,
   "metadata": {},
   "outputs": [
    {
     "name": "stdout",
     "output_type": "stream",
     "text": [
      "Checking gradient for W1\n",
      "Gradient check passed!\n",
      "Checking gradient for B1\n",
      "Gradient check passed!\n",
      "Checking gradient for W2\n",
      "Gradient check passed!\n",
      "Checking gradient for B2\n",
      "Gradient check passed!\n"
     ]
    },
    {
     "data": {
      "text/plain": [
       "True"
      ]
     },
     "execution_count": 7,
     "metadata": {},
     "output_type": "execute_result"
    }
   ],
   "source": [
    "# TODO: In model.py, implement compute_loss_and_gradients function\n",
    "model = TwoLayerNet(n_input = train_X.shape[1], n_output = 10, hidden_layer_size = 3, reg = 0)\n",
    "loss = model.compute_loss_and_gradients(train_X[:2], train_y[:2])\n",
    "\n",
    "# TODO Now implement backward pass and aggregate all of the params\n",
    "check_model_gradient(model, train_X[:2], train_y[:2])"
   ]
  },
  {
   "cell_type": "markdown",
   "metadata": {},
   "source": [
    "Теперь добавьте к модели регуляризацию - она должна прибавляться к loss и делать свой вклад в градиенты."
   ]
  },
  {
   "cell_type": "code",
   "execution_count": 8,
   "metadata": {},
   "outputs": [
    {
     "name": "stdout",
     "output_type": "stream",
     "text": [
      "Checking gradient for W1\n",
      "Gradient check passed!\n",
      "Checking gradient for B1\n",
      "Gradient check passed!\n",
      "Checking gradient for W2\n",
      "Gradient check passed!\n",
      "Checking gradient for B2\n",
      "Gradient check passed!\n"
     ]
    },
    {
     "data": {
      "text/plain": [
       "True"
      ]
     },
     "execution_count": 8,
     "metadata": {},
     "output_type": "execute_result"
    }
   ],
   "source": [
    "# TODO Now implement l2 regularization in the forward and backward pass\n",
    "model_with_reg = TwoLayerNet(n_input = train_X.shape[1], n_output = 10, hidden_layer_size = 3, reg = 1e1)\n",
    "loss_with_reg = model_with_reg.compute_loss_and_gradients(train_X[:2], train_y[:2])\n",
    "assert loss_with_reg > loss and not np.isclose(loss_with_reg, loss), \\\n",
    "    \"Loss with regularization (%2.4f) should be higher than without it (%2.4f)!\" % (loss, loss_with_reg)\n",
    "\n",
    "check_model_gradient(model_with_reg, train_X[:2], train_y[:2])"
   ]
  },
  {
   "cell_type": "markdown",
   "metadata": {},
   "source": [
    "Также реализуем функцию предсказания (вычисления значения) модели на новых данных.\n",
    "\n",
    "Какое значение точности мы ожидаем увидеть до начала тренировки?"
   ]
  },
  {
   "cell_type": "code",
   "execution_count": 26,
   "metadata": {},
   "outputs": [
    {
     "data": {
      "text/plain": [
       "0.06666666666666667"
      ]
     },
     "execution_count": 26,
     "metadata": {},
     "output_type": "execute_result"
    }
   ],
   "source": [
    "# Finally, implement predict function!\n",
    "\n",
    "# TODO: Implement predict function\n",
    "# What would be the value we expect?\n",
    "multiclass_accuracy(model_with_reg.predict(train_X[:30]), train_y[:30]) "
   ]
  },
  {
   "cell_type": "markdown",
   "metadata": {},
   "source": [
    "# Допишем код для процесса тренировки\n",
    "\n",
    "Если все реализовано корректно, значение функции ошибки должно уменьшаться с каждой эпохой, пусть и медленно. Не беспокойтесь пока про validation accuracy."
   ]
  },
  {
   "cell_type": "code",
   "execution_count": 14,
   "metadata": {},
   "outputs": [
    {
     "name": "stdout",
     "output_type": "stream",
     "text": [
      "Loss: 2.302157, Train accuracy: 0.196667, val accuracy: 0.206000\n",
      "Loss: 2.302153, Train accuracy: 0.114222, val accuracy: 0.147000\n",
      "Loss: 2.302324, Train accuracy: 0.148222, val accuracy: 0.140000\n",
      "Loss: 2.303007, Train accuracy: 0.196667, val accuracy: 0.206000\n",
      "Loss: 2.301699, Train accuracy: 0.196667, val accuracy: 0.206000\n",
      "Loss: 2.301963, Train accuracy: 0.196667, val accuracy: 0.206000\n",
      "Loss: 2.302225, Train accuracy: 0.148222, val accuracy: 0.140000\n",
      "Loss: 2.302477, Train accuracy: 0.196667, val accuracy: 0.206000\n",
      "Loss: 2.302589, Train accuracy: 0.196667, val accuracy: 0.206000\n",
      "Loss: 2.301862, Train accuracy: 0.196667, val accuracy: 0.206000\n",
      "Loss: 2.302984, Train accuracy: 0.196667, val accuracy: 0.206000\n",
      "Loss: 2.302658, Train accuracy: 0.196667, val accuracy: 0.206000\n",
      "Loss: 2.301923, Train accuracy: 0.196667, val accuracy: 0.206000\n",
      "Loss: 2.302428, Train accuracy: 0.196667, val accuracy: 0.206000\n",
      "Loss: 2.302336, Train accuracy: 0.196667, val accuracy: 0.206000\n",
      "Loss: 2.301367, Train accuracy: 0.196667, val accuracy: 0.206000\n",
      "Loss: 2.303651, Train accuracy: 0.196667, val accuracy: 0.206000\n",
      "Loss: 2.302627, Train accuracy: 0.196667, val accuracy: 0.206000\n",
      "Loss: 2.301863, Train accuracy: 0.196667, val accuracy: 0.206000\n",
      "Loss: 2.301699, Train accuracy: 0.196667, val accuracy: 0.206000\n"
     ]
    }
   ],
   "source": [
    "model = TwoLayerNet(n_input = train_X.shape[1], n_output = 10, hidden_layer_size = 100, reg = 1e1)\n",
    "dataset = Dataset(train_X, train_y, val_X, val_y)\n",
    "trainer = Trainer(model, dataset, SGD(), learning_rate = 1e-2)\n",
    "\n",
    "# TODO Implement missing pieces in Trainer.fit function\n",
    "# You should expect loss to go down every epoch, even if it's slow\n",
    "loss_history, train_history, val_history = trainer.fit()"
   ]
  },
  {
   "cell_type": "code",
   "execution_count": 6,
   "metadata": {},
   "outputs": [
    {
     "data": {
      "text/plain": [
       "[<matplotlib.lines.Line2D at 0x207d3886710>]"
      ]
     },
     "execution_count": 6,
     "metadata": {},
     "output_type": "execute_result"
    },
    {
     "data": {
      "image/png": "[encoded data removed]",
      "text/plain": [
       "<Figure size 432x288 with 1 Axes>"
      ]
     },
     "metadata": {
      "needs_background": "light"
     },
     "output_type": "display_data"
    }
   ],
   "source": [
    "plt.plot(train_history)\n",
    "plt.plot(val_history)"
   ]
  },
  {
   "cell_type": "markdown",
   "metadata": {},
   "source": [
    "# Улучшаем процесс тренировки\n",
    "\n",
    "Мы реализуем несколько ключевых оптимизаций, необходимых для тренировки современных нейросетей."
   ]
  },
  {
   "cell_type": "markdown",
   "metadata": {},
   "source": [
    "## Уменьшение скорости обучения (learning rate decay)\n",
    "\n",
    "Одна из необходимых оптимизаций во время тренировки нейронных сетей - постепенное уменьшение скорости обучения по мере тренировки.\n",
    "\n",
    "Один из стандартных методов - уменьшение скорости обучения (learning rate) каждые N эпох на коэффициент d (часто называемый decay). Значения N и d, как всегда, являются гиперпараметрами и должны подбираться на основе эффективности на проверочных данных (validation data). \n",
    "\n",
    "В нашем случае N будет равным 1."
   ]
  },
  {
   "cell_type": "code",
   "execution_count": 5,
   "metadata": {},
   "outputs": [
    {
     "name": "stdout",
     "output_type": "stream",
     "text": [
      "Loss: 2.299640, Train accuracy: 0.196667, val accuracy: 0.206000\n",
      "Loss: 2.306022, Train accuracy: 0.196667, val accuracy: 0.206000\n",
      "Loss: 2.242150, Train accuracy: 0.196667, val accuracy: 0.206000\n",
      "Loss: 2.304279, Train accuracy: 0.196667, val accuracy: 0.206000\n",
      "Loss: 2.264034, Train accuracy: 0.196667, val accuracy: 0.206000\n",
      "Loss: 2.290445, Train accuracy: 0.196667, val accuracy: 0.206000\n",
      "Loss: 2.318655, Train accuracy: 0.196667, val accuracy: 0.206000\n",
      "Loss: 2.181615, Train accuracy: 0.196667, val accuracy: 0.206000\n",
      "Loss: 2.376430, Train accuracy: 0.196667, val accuracy: 0.206000\n",
      "Loss: 2.284482, Train accuracy: 0.196667, val accuracy: 0.206000\n",
      "Loss: 2.327744, Train accuracy: 0.196667, val accuracy: 0.206000\n",
      "Loss: 2.311656, Train accuracy: 0.196667, val accuracy: 0.206000\n",
      "Loss: 2.331265, Train accuracy: 0.196667, val accuracy: 0.206000\n",
      "Loss: 2.208615, Train accuracy: 0.196667, val accuracy: 0.206000\n",
      "Loss: 2.275874, Train accuracy: 0.196667, val accuracy: 0.206000\n",
      "Loss: 2.265668, Train accuracy: 0.196667, val accuracy: 0.206000\n",
      "Loss: 2.239710, Train accuracy: 0.196667, val accuracy: 0.206000\n",
      "Loss: 2.324248, Train accuracy: 0.196667, val accuracy: 0.206000\n",
      "Loss: 2.312465, Train accuracy: 0.196667, val accuracy: 0.206000\n",
      "Loss: 2.250796, Train accuracy: 0.196667, val accuracy: 0.206000\n"
     ]
    }
   ],
   "source": [
    "# TODO Implement learning rate decay inside Trainer.fit method\n",
    "# Decay should happen once per epoch\n",
    "\n",
    "model = TwoLayerNet(n_input = train_X.shape[1], n_output = 10, hidden_layer_size = 100, reg = 1e-1)\n",
    "dataset = Dataset(train_X, train_y, val_X, val_y)\n",
    "trainer = Trainer(model, dataset, SGD(), learning_rate_decay=0.99)\n",
    "\n",
    "initial_learning_rate = trainer.learning_rate\n",
    "loss_history, train_history, val_history = trainer.fit()\n",
    "\n",
    "assert trainer.learning_rate < initial_learning_rate, \"Learning rate should've been reduced\"\n",
    "assert trainer.learning_rate > 0.5*initial_learning_rate, \"Learning rate shouldn'tve been reduced that much!\""
   ]
  },
  {
   "cell_type": "markdown",
   "metadata": {},
   "source": [
    "# Накопление импульса (Momentum SGD)\n",
    "\n",
    "Другой большой класс оптимизаций - использование более эффективных методов градиентного спуска. Мы реализуем один из них - накопление импульса (Momentum SGD).\n",
    "\n",
    "Этот метод хранит скорость движения, использует градиент для ее изменения на каждом шаге, и изменяет веса пропорционально значению скорости.\n",
    "(Физическая аналогия: Вместо скорости градиенты теперь будут задавать ускорение, но будет присутствовать сила трения.)\n",
    "\n",
    "```\n",
    "velocity = momentum * velocity - learning_rate * gradient \n",
    "w = w + velocity\n",
    "```\n",
    "\n",
    "`momentum` здесь коэффициент затухания, который тоже является гиперпараметром (к счастью, для него часто есть хорошее значение по умолчанию, типичный диапазон -- 0.8-0.99).\n",
    "\n",
    "Несколько полезных ссылок, где метод разбирается более подробно:  \n",
    "http://cs231n.github.io/neural-networks-3/#sgd  \n",
    "https://distill.pub/2017/momentum/"
   ]
  },
  {
   "cell_type": "code",
   "execution_count": 8,
   "metadata": {},
   "outputs": [
    {
     "name": "stdout",
     "output_type": "stream",
     "text": [
      "Loss: 2.328707, Train accuracy: 0.196667, val accuracy: 0.206000\n",
      "Loss: 2.303246, Train accuracy: 0.196667, val accuracy: 0.206000\n",
      "Loss: 2.298436, Train accuracy: 0.196667, val accuracy: 0.206000\n",
      "Loss: 2.290073, Train accuracy: 0.196667, val accuracy: 0.206000\n",
      "Loss: 2.290023, Train accuracy: 0.196667, val accuracy: 0.206000\n",
      "Loss: 2.268230, Train accuracy: 0.196667, val accuracy: 0.206000\n",
      "Loss: 2.273707, Train accuracy: 0.196667, val accuracy: 0.206000\n",
      "Loss: 2.293853, Train accuracy: 0.196667, val accuracy: 0.206000\n",
      "Loss: 2.304481, Train accuracy: 0.196667, val accuracy: 0.206000\n",
      "Loss: 2.295980, Train accuracy: 0.196667, val accuracy: 0.206000\n",
      "Loss: 2.340840, Train accuracy: 0.196667, val accuracy: 0.206000\n",
      "Loss: 2.300352, Train accuracy: 0.196667, val accuracy: 0.206000\n",
      "Loss: 2.262520, Train accuracy: 0.196667, val accuracy: 0.206000\n",
      "Loss: 2.245457, Train accuracy: 0.196667, val accuracy: 0.206000\n",
      "Loss: 2.282637, Train accuracy: 0.196667, val accuracy: 0.206000\n",
      "Loss: 2.247791, Train accuracy: 0.196667, val accuracy: 0.206000\n",
      "Loss: 2.237157, Train accuracy: 0.196667, val accuracy: 0.206000\n",
      "Loss: 2.291698, Train accuracy: 0.196667, val accuracy: 0.206000\n",
      "Loss: 2.276019, Train accuracy: 0.196667, val accuracy: 0.206000\n",
      "Loss: 2.223874, Train accuracy: 0.196667, val accuracy: 0.206000\n"
     ]
    }
   ],
   "source": [
    "# TODO: Implement MomentumSGD.update function in optim.py\n",
    "\n",
    "model = TwoLayerNet(n_input = train_X.shape[1], n_output = 10, hidden_layer_size = 100, reg = 1e-1)\n",
    "dataset = Dataset(train_X, train_y, val_X, val_y)\n",
    "trainer = Trainer(model, dataset, MomentumSGD(), learning_rate=1e-4, learning_rate_decay=0.99)\n",
    "\n",
    "# You should see even better results than before!\n",
    "loss_history, train_history, val_history = trainer.fit()"
   ]
  },
  {
   "cell_type": "markdown",
   "metadata": {},
   "source": [
    "# Ну что, давайте уже тренировать сеть!"
   ]
  },
  {
   "cell_type": "markdown",
   "metadata": {},
   "source": [
    "## Последний тест - переобучимся (overfit) на маленьком наборе данных\n",
    "\n",
    "Хороший способ проверить, все ли реализовано корректно - переобучить сеть на маленьком наборе данных.  \n",
    "Наша модель обладает достаточной мощностью, чтобы приблизить маленький набор данных идеально, поэтому мы ожидаем, что на нем мы быстро дойдем до 100% точности на тренировочном наборе. \n",
    "\n",
    "Если этого не происходит, то где-то была допущена ошибка!"
   ]
  },
  {
   "cell_type": "code",
   "execution_count": 9,
   "metadata": {},
   "outputs": [
    {
     "name": "stdout",
     "output_type": "stream",
     "text": [
      "Loss: 2.340310, Train accuracy: 0.200000, val accuracy: 0.066667\n",
      "Loss: 2.350926, Train accuracy: 0.200000, val accuracy: 0.066667\n",
      "Loss: 2.307062, Train accuracy: 0.266667, val accuracy: 0.066667\n",
      "Loss: 2.295739, Train accuracy: 0.333333, val accuracy: 0.066667\n",
      "Loss: 2.336886, Train accuracy: 0.266667, val accuracy: 0.000000\n",
      "Loss: 2.307335, Train accuracy: 0.266667, val accuracy: 0.000000\n",
      "Loss: 2.317857, Train accuracy: 0.266667, val accuracy: 0.000000\n",
      "Loss: 2.213127, Train accuracy: 0.266667, val accuracy: 0.000000\n",
      "Loss: 2.257662, Train accuracy: 0.400000, val accuracy: 0.000000\n",
      "Loss: 2.001195, Train accuracy: 0.400000, val accuracy: 0.000000\n",
      "Loss: 2.107345, Train accuracy: 0.400000, val accuracy: 0.000000\n",
      "Loss: 2.175777, Train accuracy: 0.400000, val accuracy: 0.000000\n",
      "Loss: 2.057221, Train accuracy: 0.400000, val accuracy: 0.000000\n",
      "Loss: 1.722861, Train accuracy: 0.333333, val accuracy: 0.000000\n",
      "Loss: 2.379879, Train accuracy: 0.333333, val accuracy: 0.000000\n",
      "Loss: 1.628495, Train accuracy: 0.333333, val accuracy: 0.000000\n",
      "Loss: 1.700829, Train accuracy: 0.400000, val accuracy: 0.000000\n",
      "Loss: 1.369766, Train accuracy: 0.400000, val accuracy: 0.000000\n",
      "Loss: 1.751079, Train accuracy: 0.400000, val accuracy: 0.000000\n",
      "Loss: 1.326074, Train accuracy: 0.400000, val accuracy: 0.000000\n",
      "Loss: 1.743756, Train accuracy: 0.400000, val accuracy: 0.000000\n",
      "Loss: 1.219150, Train accuracy: 0.400000, val accuracy: 0.000000\n",
      "Loss: 1.391715, Train accuracy: 0.400000, val accuracy: 0.000000\n",
      "Loss: 1.739757, Train accuracy: 0.400000, val accuracy: 0.000000\n",
      "Loss: 1.782432, Train accuracy: 0.466667, val accuracy: 0.000000\n",
      "Loss: 2.217827, Train accuracy: 0.466667, val accuracy: 0.066667\n",
      "Loss: 2.279434, Train accuracy: 0.466667, val accuracy: 0.066667\n",
      "Loss: 1.315712, Train accuracy: 0.466667, val accuracy: 0.066667\n",
      "Loss: 2.498203, Train accuracy: 0.466667, val accuracy: 0.066667\n",
      "Loss: 1.714299, Train accuracy: 0.533333, val accuracy: 0.066667\n",
      "Loss: 1.353217, Train accuracy: 0.600000, val accuracy: 0.066667\n",
      "Loss: 1.722217, Train accuracy: 0.533333, val accuracy: 0.000000\n",
      "Loss: 1.226699, Train accuracy: 0.466667, val accuracy: 0.066667\n",
      "Loss: 2.088908, Train accuracy: 0.600000, val accuracy: 0.000000\n",
      "Loss: 2.016812, Train accuracy: 0.600000, val accuracy: 0.066667\n",
      "Loss: 1.312803, Train accuracy: 0.533333, val accuracy: 0.066667\n",
      "Loss: 1.761180, Train accuracy: 0.600000, val accuracy: 0.000000\n",
      "Loss: 2.300006, Train accuracy: 0.666667, val accuracy: 0.066667\n",
      "Loss: 1.446671, Train accuracy: 0.666667, val accuracy: 0.066667\n",
      "Loss: 1.596846, Train accuracy: 0.600000, val accuracy: 0.066667\n",
      "Loss: 1.467464, Train accuracy: 0.600000, val accuracy: 0.066667\n",
      "Loss: 1.583256, Train accuracy: 0.666667, val accuracy: 0.066667\n",
      "Loss: 1.745112, Train accuracy: 0.666667, val accuracy: 0.066667\n",
      "Loss: 1.830148, Train accuracy: 0.666667, val accuracy: 0.066667\n",
      "Loss: 2.188231, Train accuracy: 0.733333, val accuracy: 0.066667\n",
      "Loss: 1.548247, Train accuracy: 0.733333, val accuracy: 0.066667\n",
      "Loss: 1.393327, Train accuracy: 0.666667, val accuracy: 0.066667\n",
      "Loss: 1.755262, Train accuracy: 0.733333, val accuracy: 0.133333\n",
      "Loss: 1.303794, Train accuracy: 0.666667, val accuracy: 0.066667\n",
      "Loss: 1.422253, Train accuracy: 0.733333, val accuracy: 0.066667\n",
      "Loss: 1.502562, Train accuracy: 0.733333, val accuracy: 0.066667\n",
      "Loss: 1.566893, Train accuracy: 0.733333, val accuracy: 0.066667\n",
      "Loss: 1.143029, Train accuracy: 0.733333, val accuracy: 0.066667\n",
      "Loss: 1.901582, Train accuracy: 0.733333, val accuracy: 0.066667\n",
      "Loss: 1.583362, Train accuracy: 0.733333, val accuracy: 0.133333\n",
      "Loss: 1.878742, Train accuracy: 0.733333, val accuracy: 0.133333\n",
      "Loss: 1.553346, Train accuracy: 0.733333, val accuracy: 0.066667\n",
      "Loss: 1.908586, Train accuracy: 0.733333, val accuracy: 0.066667\n",
      "Loss: 1.244900, Train accuracy: 0.733333, val accuracy: 0.000000\n",
      "Loss: 1.624946, Train accuracy: 0.733333, val accuracy: 0.066667\n",
      "Loss: 1.319354, Train accuracy: 0.733333, val accuracy: 0.066667\n",
      "Loss: 1.389632, Train accuracy: 0.733333, val accuracy: 0.066667\n",
      "Loss: 1.062556, Train accuracy: 0.733333, val accuracy: 0.066667\n",
      "Loss: 1.549215, Train accuracy: 0.733333, val accuracy: 0.066667\n",
      "Loss: 1.331985, Train accuracy: 0.733333, val accuracy: 0.066667\n",
      "Loss: 1.365091, Train accuracy: 0.733333, val accuracy: 0.066667\n",
      "Loss: 1.646562, Train accuracy: 0.800000, val accuracy: 0.066667\n",
      "Loss: 1.643826, Train accuracy: 0.733333, val accuracy: 0.066667\n",
      "Loss: 1.402865, Train accuracy: 0.800000, val accuracy: 0.066667\n",
      "Loss: 1.979571, Train accuracy: 0.800000, val accuracy: 0.066667\n",
      "Loss: 1.327910, Train accuracy: 0.733333, val accuracy: 0.066667\n",
      "Loss: 1.648651, Train accuracy: 0.733333, val accuracy: 0.066667\n",
      "Loss: 1.503796, Train accuracy: 0.733333, val accuracy: 0.066667\n",
      "Loss: 1.357618, Train accuracy: 0.800000, val accuracy: 0.066667\n",
      "Loss: 1.020298, Train accuracy: 0.800000, val accuracy: 0.066667\n",
      "Loss: 1.934040, Train accuracy: 0.800000, val accuracy: 0.066667\n",
      "Loss: 1.443540, Train accuracy: 0.800000, val accuracy: 0.066667\n",
      "Loss: 1.557903, Train accuracy: 0.800000, val accuracy: 0.066667\n",
      "Loss: 1.633733, Train accuracy: 0.800000, val accuracy: 0.066667\n",
      "Loss: 0.930361, Train accuracy: 0.800000, val accuracy: 0.066667\n",
      "Loss: 1.272065, Train accuracy: 0.866667, val accuracy: 0.066667\n",
      "Loss: 1.704810, Train accuracy: 0.866667, val accuracy: 0.066667\n",
      "Loss: 1.263836, Train accuracy: 0.866667, val accuracy: 0.066667\n",
      "Loss: 1.834400, Train accuracy: 0.866667, val accuracy: 0.066667\n",
      "Loss: 1.202752, Train accuracy: 0.866667, val accuracy: 0.066667\n",
      "Loss: 1.598033, Train accuracy: 0.866667, val accuracy: 0.066667\n",
      "Loss: 1.560696, Train accuracy: 0.866667, val accuracy: 0.066667\n",
      "Loss: 1.112316, Train accuracy: 0.866667, val accuracy: 0.066667\n",
      "Loss: 1.385604, Train accuracy: 0.866667, val accuracy: 0.066667\n",
      "Loss: 1.586410, Train accuracy: 0.866667, val accuracy: 0.066667\n",
      "Loss: 1.268663, Train accuracy: 0.866667, val accuracy: 0.066667\n",
      "Loss: 0.957099, Train accuracy: 0.866667, val accuracy: 0.066667\n",
      "Loss: 1.365305, Train accuracy: 0.866667, val accuracy: 0.066667\n",
      "Loss: 0.956720, Train accuracy: 0.866667, val accuracy: 0.066667\n",
      "Loss: 1.367527, Train accuracy: 0.866667, val accuracy: 0.066667\n",
      "Loss: 1.413182, Train accuracy: 0.866667, val accuracy: 0.066667\n",
      "Loss: 1.357701, Train accuracy: 0.866667, val accuracy: 0.066667\n",
      "Loss: 1.546296, Train accuracy: 0.866667, val accuracy: 0.066667\n",
      "Loss: 1.780756, Train accuracy: 0.866667, val accuracy: 0.066667\n",
      "Loss: 1.226231, Train accuracy: 0.866667, val accuracy: 0.066667\n",
      "Loss: 1.650855, Train accuracy: 0.866667, val accuracy: 0.066667\n",
      "Loss: 1.257404, Train accuracy: 0.866667, val accuracy: 0.066667\n",
      "Loss: 1.555041, Train accuracy: 0.933333, val accuracy: 0.066667\n",
      "Loss: 1.442716, Train accuracy: 0.866667, val accuracy: 0.066667\n",
      "Loss: 1.441679, Train accuracy: 0.866667, val accuracy: 0.066667\n",
      "Loss: 1.464228, Train accuracy: 0.933333, val accuracy: 0.066667\n",
      "Loss: 1.473569, Train accuracy: 0.933333, val accuracy: 0.000000\n",
      "Loss: 1.257416, Train accuracy: 0.933333, val accuracy: 0.000000\n",
      "Loss: 1.422412, Train accuracy: 0.933333, val accuracy: 0.000000\n",
      "Loss: 1.398090, Train accuracy: 0.933333, val accuracy: 0.000000\n",
      "Loss: 1.310977, Train accuracy: 0.933333, val accuracy: 0.000000\n",
      "Loss: 1.262904, Train accuracy: 0.933333, val accuracy: 0.000000\n",
      "Loss: 1.271784, Train accuracy: 0.933333, val accuracy: 0.000000\n",
      "Loss: 0.929796, Train accuracy: 0.933333, val accuracy: 0.000000\n",
      "Loss: 1.616884, Train accuracy: 0.933333, val accuracy: 0.000000\n",
      "Loss: 1.164721, Train accuracy: 0.866667, val accuracy: 0.000000\n",
      "Loss: 1.094712, Train accuracy: 0.933333, val accuracy: 0.000000\n",
      "Loss: 1.422808, Train accuracy: 0.933333, val accuracy: 0.000000\n",
      "Loss: 1.174618, Train accuracy: 0.933333, val accuracy: 0.000000\n",
      "Loss: 1.727351, Train accuracy: 0.933333, val accuracy: 0.000000\n",
      "Loss: 1.760114, Train accuracy: 0.933333, val accuracy: 0.000000\n",
      "Loss: 1.198437, Train accuracy: 0.933333, val accuracy: 0.000000\n",
      "Loss: 1.508246, Train accuracy: 0.933333, val accuracy: 0.000000\n",
      "Loss: 1.548631, Train accuracy: 0.933333, val accuracy: 0.000000\n",
      "Loss: 1.367811, Train accuracy: 0.933333, val accuracy: 0.000000\n",
      "Loss: 1.592163, Train accuracy: 0.933333, val accuracy: 0.000000\n",
      "Loss: 1.142960, Train accuracy: 0.933333, val accuracy: 0.000000\n",
      "Loss: 0.933794, Train accuracy: 1.000000, val accuracy: 0.000000\n",
      "Loss: 1.091866, Train accuracy: 1.000000, val accuracy: 0.000000\n"
     ]
    },
    {
     "name": "stdout",
     "output_type": "stream",
     "text": [
      "Loss: 1.658186, Train accuracy: 1.000000, val accuracy: 0.000000\n",
      "Loss: 1.013647, Train accuracy: 1.000000, val accuracy: 0.000000\n",
      "Loss: 1.246147, Train accuracy: 1.000000, val accuracy: 0.000000\n",
      "Loss: 1.114209, Train accuracy: 1.000000, val accuracy: 0.000000\n",
      "Loss: 1.327382, Train accuracy: 1.000000, val accuracy: 0.000000\n",
      "Loss: 1.205241, Train accuracy: 1.000000, val accuracy: 0.000000\n",
      "Loss: 1.187900, Train accuracy: 1.000000, val accuracy: 0.000000\n",
      "Loss: 1.579235, Train accuracy: 1.000000, val accuracy: 0.000000\n",
      "Loss: 1.037093, Train accuracy: 1.000000, val accuracy: 0.000000\n",
      "Loss: 1.169284, Train accuracy: 1.000000, val accuracy: 0.000000\n",
      "Loss: 1.265539, Train accuracy: 1.000000, val accuracy: 0.000000\n",
      "Loss: 1.132535, Train accuracy: 1.000000, val accuracy: 0.000000\n",
      "Loss: 1.467876, Train accuracy: 1.000000, val accuracy: 0.000000\n",
      "Loss: 1.569426, Train accuracy: 1.000000, val accuracy: 0.000000\n",
      "Loss: 1.262520, Train accuracy: 1.000000, val accuracy: 0.000000\n",
      "Loss: 1.359760, Train accuracy: 1.000000, val accuracy: 0.000000\n",
      "Loss: 1.107987, Train accuracy: 1.000000, val accuracy: 0.000000\n",
      "Loss: 1.391521, Train accuracy: 1.000000, val accuracy: 0.000000\n",
      "Loss: 1.417316, Train accuracy: 1.000000, val accuracy: 0.000000\n",
      "Loss: 1.295834, Train accuracy: 1.000000, val accuracy: 0.000000\n",
      "Loss: 0.984507, Train accuracy: 1.000000, val accuracy: 0.000000\n"
     ]
    }
   ],
   "source": [
    "data_size = 15\n",
    "model = TwoLayerNet(n_input = train_X.shape[1], n_output = 10, hidden_layer_size = 100, reg = 1e-1)\n",
    "dataset = Dataset(train_X[:data_size], train_y[:data_size], val_X[:data_size], val_y[:data_size])\n",
    "trainer = Trainer(model, dataset, SGD(), learning_rate=1e-1, num_epochs=150, batch_size=5)\n",
    "\n",
    "# You should expect this to reach 1.0 training accuracy \n",
    "loss_history, train_history, val_history = trainer.fit()"
   ]
  },
  {
   "cell_type": "markdown",
   "metadata": {},
   "source": [
    "Теперь найдем гипепараметры, для которых этот процесс сходится быстрее.\n",
    "Если все реализовано корректно, то существуют параметры, при которых процесс сходится в **20** эпох или еще быстрее.\n",
    "Найдите их!"
   ]
  },
  {
   "cell_type": "code",
   "execution_count": 34,
   "metadata": {},
   "outputs": [
    {
     "name": "stdout",
     "output_type": "stream",
     "text": [
      "Loss: 2.316744, Train accuracy: 0.200000, val accuracy: 0.133333\n",
      "Loss: 2.226603, Train accuracy: 0.200000, val accuracy: 0.133333\n",
      "Loss: 2.199999, Train accuracy: 0.200000, val accuracy: 0.133333\n",
      "Loss: 2.234146, Train accuracy: 0.400000, val accuracy: 0.000000\n",
      "Loss: 1.565598, Train accuracy: 0.400000, val accuracy: 0.000000\n",
      "Loss: 1.883295, Train accuracy: 0.466667, val accuracy: 0.000000\n",
      "Loss: 1.731349, Train accuracy: 0.466667, val accuracy: 0.000000\n",
      "Loss: 2.186561, Train accuracy: 0.533333, val accuracy: 0.000000\n",
      "Loss: 0.818259, Train accuracy: 0.466667, val accuracy: 0.066667\n",
      "Loss: 0.768484, Train accuracy: 0.666667, val accuracy: 0.000000\n",
      "Loss: 0.711071, Train accuracy: 0.733333, val accuracy: 0.000000\n",
      "Loss: 0.164382, Train accuracy: 1.000000, val accuracy: 0.066667\n",
      "Loss: 0.289192, Train accuracy: 1.000000, val accuracy: 0.000000\n",
      "Loss: 0.163643, Train accuracy: 1.000000, val accuracy: 0.000000\n",
      "Loss: 0.002803, Train accuracy: 0.933333, val accuracy: 0.000000\n",
      "Loss: 0.000353, Train accuracy: 1.000000, val accuracy: 0.066667\n",
      "Loss: 1.109346, Train accuracy: 1.000000, val accuracy: 0.066667\n",
      "Loss: 0.000050, Train accuracy: 1.000000, val accuracy: 0.066667\n",
      "Loss: 0.000125, Train accuracy: 1.000000, val accuracy: 0.066667\n",
      "Loss: 0.001615, Train accuracy: 1.000000, val accuracy: 0.066667\n"
     ]
    }
   ],
   "source": [
    "# Now, tweak some hyper parameters and make it train to 1.0 accuracy in 20 epochs or less\n",
    "\n",
    "model = TwoLayerNet(n_input = train_X.shape[1], n_output = 10, hidden_layer_size = 200, reg = 0)\n",
    "dataset = Dataset(train_X[:data_size], train_y[:data_size], val_X[:data_size], val_y[:data_size])\n",
    "# TODO: Change any hyperparamers or optimizators to reach training accuracy in 20 epochs\n",
    "trainer = Trainer(model, dataset, MomentumSGD(), learning_rate=1e-1, num_epochs=20, batch_size=5)\n",
    "\n",
    "loss_history, train_history, val_history = trainer.fit()"
   ]
  },
  {
   "cell_type": "markdown",
   "metadata": {},
   "source": [
    "# Итак, основное мероприятие!\n",
    "\n",
    "Натренируйте лучшую нейросеть! Можно добавлять и изменять параметры, менять количество нейронов в слоях сети и как угодно экспериментировать. \n",
    "\n",
    "Добейтесь точности лучше **60%** на validation set."
   ]
  },
  {
   "cell_type": "code",
   "execution_count": 52,
   "metadata": {
    "scrolled": true
   },
   "outputs": [
    {
     "name": "stdout",
     "output_type": "stream",
     "text": [
      "1\n",
      "Loss: 2.300906, Train accuracy: 0.196667, val accuracy: 0.206000\n",
      "Loss: 2.297521, Train accuracy: 0.196667, val accuracy: 0.206000\n",
      "Loss: 2.299292, Train accuracy: 0.196667, val accuracy: 0.206000\n",
      "Loss: 2.295056, Train accuracy: 0.196667, val accuracy: 0.206000\n",
      "Loss: 2.293030, Train accuracy: 0.196667, val accuracy: 0.206000\n",
      "Loss: 2.291737, Train accuracy: 0.196667, val accuracy: 0.206000\n",
      "Loss: 2.288045, Train accuracy: 0.196667, val accuracy: 0.206000\n",
      "Loss: 2.279339, Train accuracy: 0.196667, val accuracy: 0.206000\n",
      "Loss: 2.294439, Train accuracy: 0.196667, val accuracy: 0.206000\n",
      "Loss: 2.284248, Train accuracy: 0.196667, val accuracy: 0.206000\n",
      "2\n",
      "Loss: 2.230053, Train accuracy: 0.196667, val accuracy: 0.206000\n",
      "Loss: 2.057640, Train accuracy: 0.272556, val accuracy: 0.274000\n",
      "Loss: 1.774554, Train accuracy: 0.416000, val accuracy: 0.415000\n",
      "Loss: 1.238192, Train accuracy: 0.490778, val accuracy: 0.493000\n",
      "Loss: 1.648300, Train accuracy: 0.555333, val accuracy: 0.553000\n",
      "Loss: 1.423947, Train accuracy: 0.608000, val accuracy: 0.598000\n",
      "Loss: 1.110271, Train accuracy: 0.621333, val accuracy: 0.604000\n",
      "Loss: 1.604031, Train accuracy: 0.642222, val accuracy: 0.625000\n",
      "Loss: 1.125019, Train accuracy: 0.665444, val accuracy: 0.644000\n",
      "Loss: 0.843579, Train accuracy: 0.671667, val accuracy: 0.653000\n",
      "3\n",
      "Loss: 2.298272, Train accuracy: 0.196667, val accuracy: 0.206000\n",
      "Loss: 2.299941, Train accuracy: 0.196667, val accuracy: 0.206000\n",
      "Loss: 2.278731, Train accuracy: 0.196667, val accuracy: 0.206000\n",
      "Loss: 2.277005, Train accuracy: 0.196667, val accuracy: 0.206000\n",
      "Loss: 2.290336, Train accuracy: 0.196667, val accuracy: 0.206000\n",
      "Loss: 2.260845, Train accuracy: 0.196667, val accuracy: 0.206000\n",
      "Loss: 2.277265, Train accuracy: 0.196667, val accuracy: 0.206000\n",
      "Loss: 2.301898, Train accuracy: 0.196667, val accuracy: 0.206000\n",
      "Loss: 2.258881, Train accuracy: 0.196667, val accuracy: 0.206000\n",
      "Loss: 2.284249, Train accuracy: 0.196667, val accuracy: 0.206000\n",
      "4\n",
      "Loss: 2.256640, Train accuracy: 0.196667, val accuracy: 0.206000\n",
      "Loss: 2.277254, Train accuracy: 0.196667, val accuracy: 0.206000\n",
      "Loss: 2.158618, Train accuracy: 0.196667, val accuracy: 0.206000\n",
      "Loss: 2.261915, Train accuracy: 0.196667, val accuracy: 0.206000\n",
      "Loss: 2.392192, Train accuracy: 0.196667, val accuracy: 0.206000\n",
      "Loss: 2.149699, Train accuracy: 0.196667, val accuracy: 0.206000\n",
      "Loss: 2.243387, Train accuracy: 0.196667, val accuracy: 0.206000\n",
      "Loss: 2.045770, Train accuracy: 0.196667, val accuracy: 0.206000\n",
      "Loss: 2.359489, Train accuracy: 0.196667, val accuracy: 0.206000\n",
      "Loss: 2.403366, Train accuracy: 0.196667, val accuracy: 0.206000\n",
      "5\n",
      "Loss: 2.291972, Train accuracy: 0.181000, val accuracy: 0.196000\n",
      "Loss: 2.443634, Train accuracy: 0.157222, val accuracy: 0.148000\n",
      "Loss: 2.369870, Train accuracy: 0.196667, val accuracy: 0.206000\n",
      "Loss: 2.315849, Train accuracy: 0.148222, val accuracy: 0.140000\n",
      "Loss: 2.311725, Train accuracy: 0.167444, val accuracy: 0.180000\n",
      "Loss: 2.236616, Train accuracy: 0.153333, val accuracy: 0.148000\n",
      "Loss: 2.344481, Train accuracy: 0.196667, val accuracy: 0.206000\n",
      "Loss: 2.371863, Train accuracy: 0.148222, val accuracy: 0.140000\n",
      "Loss: 2.372156, Train accuracy: 0.196667, val accuracy: 0.206000\n",
      "Loss: 2.389742, Train accuracy: 0.196667, val accuracy: 0.206000\n",
      "best validation accuracy achieved: 0.653000\n"
     ]
    }
   ],
   "source": [
    "# Let's train the best one-hidden-layer network we can\n",
    "from random import choice\n",
    "num_inter = 5\n",
    "\n",
    "learning_rates = [1e-1,1e-2,1e-3,1e-4]\n",
    "reg_strength = [1e-1,1e-2, 1e-3, 1e-4]\n",
    "learning_rate_decay = [0.8, 0.9, 0.999]\n",
    "hidden_layer_size = [128, 228, 328]\n",
    "num_epochs = 10\n",
    "batch_size = [64,15,45,25]\n",
    "\n",
    "best_classifier = None\n",
    "best_val_accuracy = None\n",
    "\n",
    "best_loss_history = {}\n",
    "loss_history = []\n",
    "train_history = []\n",
    "val_history = []\n",
    "\n",
    "# TODO find the best hyperparameters to train the network\n",
    "# Don't hesitate to add new values to the arrays above, perform experiments, use any tricks you want\n",
    "# You should expect to get to at least 40% of valudation accuracy\n",
    "# Save loss/train/history of the best classifier to the variables above\n",
    "data = Dataset(train_X, train_y, val_X, val_y)\n",
    "\n",
    "for i in range(num_inter):\n",
    "    print(i+1)\n",
    "    ln = choice(learning_rates)\n",
    "    rs = choice(reg_strength)\n",
    "    lrd = choice(learning_rate_decay)\n",
    "    hls = choice(hidden_layer_size)\n",
    "    bs = choice(batch_size)\n",
    "    model = TwoLayerNet(n_input = train_X.shape[1], n_output = 10, hidden_layer_size = hls, reg = rs)\n",
    "    \n",
    "    trainer = Trainer(model, data, MomentumSGD(), num_epochs=num_epochs,\n",
    "                 batch_size = bs,\n",
    "                 learning_rate = ln,\n",
    "                 learning_rate_decay = lrd) \n",
    "    \n",
    "    loss, train_his, val_his = trainer.fit()\n",
    "    \n",
    "    if loss_history == []:\n",
    "        loss_history = loss\n",
    "        train_history = train_his\n",
    "        val_history = val_his\n",
    "        \n",
    "    elif loss[-1] < loss_history[-1]:\n",
    "        best_giper_params = {'batch_size':bs, \n",
    "                             'learning_rate':ln,\n",
    "                             'reg_strength':rs,\n",
    "                             'learning_rate_decay':lrd,\n",
    "                            'hidden_layer_size':hls}\n",
    "        \n",
    "        loss_history = loss\n",
    "        train_history = train_his\n",
    "        val_history = val_his\n",
    "        \n",
    "        \n",
    "    best_loss_history[loss[-1]] = model\n",
    "\n",
    " \n",
    "    \n",
    "    \n",
    "    \n",
    "    \n",
    "best_best_classifier = best_loss_history[min(loss_history)]\n",
    "\n",
    "best_val_accuracy = max(val_history)\n",
    "\n",
    "print('best validation accuracy achieved: %f' % best_val_accuracy)"
   ]
  },
  {
   "cell_type": "code",
   "execution_count": 55,
   "metadata": {},
   "outputs": [
    {
     "data": {
      "text/plain": [
       "{'batch_size': 25,\n",
       " 'learning_rate': 0.01,\n",
       " 'reg_strength': 0.001,\n",
       " 'learning_rate_decay': 0.8,\n",
       " 'hidden_layer_size': 128}"
      ]
     },
     "execution_count": 55,
     "metadata": {},
     "output_type": "execute_result"
    }
   ],
   "source": [
    "best_giper_params"
   ]
  },
  {
   "cell_type": "code",
   "execution_count": 53,
   "metadata": {},
   "outputs": [
    {
     "data": {
      "text/plain": [
       "[<matplotlib.lines.Line2D at 0x207ec452a10>]"
      ]
     },
     "execution_count": 53,
     "metadata": {},
     "output_type": "execute_result"
    },
    {
     "data": {
      "image/png": "[encoded data removed]",
      "text/plain": [
       "<Figure size 1080x504 with 2 Axes>"
      ]
     },
     "metadata": {
      "needs_background": "light"
     },
     "output_type": "display_data"
    }
   ],
   "source": [
    "plt.figure(figsize=(15, 7))\n",
    "plt.subplot(211)\n",
    "plt.title(\"Loss\")\n",
    "plt.plot(loss_history)\n",
    "plt.subplot(212)\n",
    "plt.title(\"Train/validation accuracy\")\n",
    "plt.plot(train_history)\n",
    "plt.plot(val_history)"
   ]
  },
  {
   "cell_type": "markdown",
   "metadata": {},
   "source": [
    "# Как обычно, посмотрим, как наша лучшая модель работает на тестовых данных"
   ]
  },
  {
   "cell_type": "code",
   "execution_count": 54,
   "metadata": {},
   "outputs": [
    {
     "name": "stdout",
     "output_type": "stream",
     "text": [
      "Neural net test set accuracy: 0.622000\n"
     ]
    }
   ],
   "source": [
    "test_pred = best_best_classifier.predict(test_X)\n",
    "test_accuracy = multiclass_accuracy(test_pred, test_y)\n",
    "print('Neural net test set accuracy: %f' % (test_accuracy, ))"
   ]
  }
 ],
 "metadata": {
  "kernelspec": {
   "display_name": "Python 3 (ipykernel)",
   "language": "python",
   "name": "python3"
  },
  "language_info": {
   "codemirror_mode": {
    "name": "ipython",
    "version": 3
   },
   "file_extension": ".py",
   "mimetype": "text/x-python",
   "name": "python",
   "nbconvert_exporter": "python",
   "pygments_lexer": "ipython3",
   "version": "3.10.7"
  }
 },
 "nbformat": 4,
 "nbformat_minor": 2
}
