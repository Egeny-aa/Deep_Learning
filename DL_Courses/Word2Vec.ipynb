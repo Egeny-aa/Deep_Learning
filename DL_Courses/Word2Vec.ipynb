{
  "cells": [
    {
      "cell_type": "markdown",
      "metadata": {
        "id": "view-in-github",
        "colab_type": "text"
      },
      "source": [
        "<a href=\"https://colab.research.google.com/github/Evgeny-Artemov/Deep_Learning/blob/main/DL_Courses/Word2Vec.ipynb\" target=\"_parent\"><img src=\"https://colab.research.google.com/assets/colab-badge.svg\" alt=\"Open In Colab\"/></a>"
      ]
    },
    {
      "cell_type": "markdown",
      "metadata": {
        "id": "QrMzr_75neFx"
      },
      "source": [
        "# Задание 5.1 - Word2Vec\n",
        "\n",
        "В этом задании мы натренируем свои word vectors на очень небольшом датасете.\n",
        "Мы будем использовать самую простую версию word2vec, без negative sampling и других оптимизаций.\n",
        "\n",
        "Перед запуском нужно запустить скрипт `download_data.sh` чтобы скачать данные.\n",
        "\n",
        "Датасет и модель очень небольшие, поэтому это задание можно выполнить и без GPU."
      ]
    },
    {
      "cell_type": "code",
      "execution_count": null,
      "metadata": {
        "id": "1bPn62iqneF0"
      },
      "outputs": [],
      "source": [
        "import torch\n",
        "import torch.nn as nn\n",
        "import torch.optim as optim\n",
        "from torch.utils.data import Dataset\n",
        "\n",
        "from torchvision import transforms\n",
        "\n",
        "import numpy as np\n",
        "import matplotlib.pyplot as plt\n",
        "\n",
        "# We'll use Principal Component Analysis (PCA) to visualize word vectors,\n",
        "# so make sure you install dependencies from requirements.txt!\n",
        "from sklearn.decomposition import PCA \n",
        "\n",
        "%matplotlib inline"
      ]
    },
    {
      "cell_type": "code",
      "source": [
        "!wget http://nlp.stanford.edu/~socherr/stanfordSentimentTreebank.zip"
      ],
      "metadata": {
        "colab": {
          "base_uri": "https://localhost:8080/"
        },
        "id": "XUn-eTBAocl9",
        "outputId": "a39ea9e2-dbb0-49ba-a0c1-f69b67bae889"
      },
      "execution_count": null,
      "outputs": [
        {
          "output_type": "stream",
          "name": "stdout",
          "text": [
            "--2023-04-30 07:23:40--  http://nlp.stanford.edu/~socherr/stanfordSentimentTreebank.zip\n",
            "Resolving nlp.stanford.edu (nlp.stanford.edu)... 171.64.67.140\n",
            "Connecting to nlp.stanford.edu (nlp.stanford.edu)|171.64.67.140|:80... connected.\n",
            "HTTP request sent, awaiting response... 302 Found\n",
            "Location: https://nlp.stanford.edu/~socherr/stanfordSentimentTreebank.zip [following]\n",
            "--2023-04-30 07:23:40--  https://nlp.stanford.edu/~socherr/stanfordSentimentTreebank.zip\n",
            "Connecting to nlp.stanford.edu (nlp.stanford.edu)|171.64.67.140|:443... connected.\n",
            "HTTP request sent, awaiting response... 200 OK\n",
            "Length: 6372817 (6.1M) [application/zip]\n",
            "Saving to: ‘stanfordSentimentTreebank.zip’\n",
            "\n",
            "stanfordSentimentTr 100%[===================>]   6.08M  1.70MB/s    in 4.4s    \n",
            "\n",
            "2023-04-30 07:23:45 (1.39 MB/s) - ‘stanfordSentimentTreebank.zip’ saved [6372817/6372817]\n",
            "\n"
          ]
        }
      ]
    },
    {
      "cell_type": "code",
      "source": [
        "!unzip stanfordSentimentTreebank.zip "
      ],
      "metadata": {
        "colab": {
          "base_uri": "https://localhost:8080/"
        },
        "id": "pwiuYFDhoifs",
        "outputId": "cb3636d7-69f5-4ffe-909d-cf0e03149fa4"
      },
      "execution_count": null,
      "outputs": [
        {
          "output_type": "stream",
          "name": "stdout",
          "text": [
            "Archive:  stanfordSentimentTreebank.zip\n",
            "   creating: stanfordSentimentTreebank/\n",
            "  inflating: stanfordSentimentTreebank/datasetSentences.txt  \n",
            "   creating: __MACOSX/\n",
            "   creating: __MACOSX/stanfordSentimentTreebank/\n",
            "  inflating: __MACOSX/stanfordSentimentTreebank/._datasetSentences.txt  \n",
            "  inflating: stanfordSentimentTreebank/datasetSplit.txt  \n",
            "  inflating: __MACOSX/stanfordSentimentTreebank/._datasetSplit.txt  \n",
            "  inflating: stanfordSentimentTreebank/dictionary.txt  \n",
            "  inflating: __MACOSX/stanfordSentimentTreebank/._dictionary.txt  \n",
            "  inflating: stanfordSentimentTreebank/original_rt_snippets.txt  \n",
            "  inflating: __MACOSX/stanfordSentimentTreebank/._original_rt_snippets.txt  \n",
            "  inflating: stanfordSentimentTreebank/README.txt  \n",
            "  inflating: __MACOSX/stanfordSentimentTreebank/._README.txt  \n",
            "  inflating: stanfordSentimentTreebank/sentiment_labels.txt  \n",
            "  inflating: __MACOSX/stanfordSentimentTreebank/._sentiment_labels.txt  \n",
            "  inflating: stanfordSentimentTreebank/SOStr.txt  \n",
            "  inflating: stanfordSentimentTreebank/STree.txt  \n"
          ]
        }
      ]
    },
    {
      "cell_type": "code",
      "source": [
        "!ls stanfordSentimentTreebank\n"
      ],
      "metadata": {
        "colab": {
          "base_uri": "https://localhost:8080/"
        },
        "id": "kT72D2WKpFey",
        "outputId": "494392fc-d8b7-43ee-8f82-65bf5bbaf19c"
      },
      "execution_count": null,
      "outputs": [
        {
          "output_type": "stream",
          "name": "stdout",
          "text": [
            "datasetSentences.txt  dictionary.txt\t\tREADME.txt\t      SOStr.txt\n",
            "datasetSplit.txt      original_rt_snippets.txt\tsentiment_labels.txt  STree.txt\n"
          ]
        }
      ]
    },
    {
      "cell_type": "code",
      "source": [
        "!rm stanfordSentimentTreebank.zip"
      ],
      "metadata": {
        "id": "4_PdfqEbpUQ-"
      },
      "execution_count": null,
      "outputs": []
    },
    {
      "cell_type": "code",
      "execution_count": null,
      "metadata": {
        "scrolled": false,
        "colab": {
          "base_uri": "https://localhost:8080/"
        },
        "id": "hw-29Y8fneF2",
        "outputId": "1d0098cb-062c-4a16-8988-a81a8675468a"
      },
      "outputs": [
        {
          "output_type": "stream",
          "name": "stdout",
          "text": [
            "Num tokens: 19538\n",
            "foremost ['blue', 'phenomenal', 'water-born', 'hennings']\n",
            "too ['too', 'ensuing', 'blatant', 'resolutions', 'convenient']\n",
            "ong ['well-told', 'recent', 'immigrant']\n",
            "styles ['schumacher', 'anyone', 'at', 'bringing', 'hopkins\\\\/rock', 'onscreen', 'personas']\n",
            "gianni ['working', 'a', 'co-written', 'romoli', '...', 'ozpetek', 'pitfalls', \"'d\"]\n"
          ]
        }
      ],
      "source": [
        "import os\n",
        "import numpy as np\n",
        "\n",
        "class StanfordTreeBank:\n",
        "    '''\n",
        "    Wrapper for accessing Stanford Tree Bank Dataset\n",
        "    https://nlp.stanford.edu/sentiment/treebank.html\n",
        "    \n",
        "    Parses dataset, gives each token and index and provides lookups\n",
        "    from string token to index and back\n",
        "    \n",
        "    Allows to generate random context with sampling strategy described in\n",
        "    word2vec paper:\n",
        "    https://papers.nips.cc/paper/5021-distributed-representations-of-words-and-phrases-and-their-compositionality.pdf\n",
        "    '''\n",
        "    def __init__(self):\n",
        "        self.index_by_token = {}\n",
        "        self.token_by_index = [] \n",
        "\n",
        "        self.sentences = [] \n",
        "\n",
        "        self.token_freq = {} \n",
        "        \n",
        "        self.token_reject_by_index = None\n",
        "\n",
        "    def load_dataset(self, folder):\n",
        "        filename = os.path.join(folder, \"datasetSentences.txt\")\n",
        "\n",
        "        with open(filename, \"r\", encoding=\"latin1\") as f:\n",
        "            l = f.readline() # skip the first line\n",
        "            \n",
        "            for l in f:\n",
        "                splitted_line = l.strip().split()\n",
        "                words = [w.lower() for w in splitted_line[1:]] # First one is a number\n",
        "                    \n",
        "                self.sentences.append(words)\n",
        "                for word in words:\n",
        "                    if word in self.token_freq:\n",
        "                        self.token_freq[word] +=1 \n",
        "                    else:\n",
        "                        index = len(self.token_by_index)\n",
        "                        self.token_freq[word] = 1\n",
        "                        self.index_by_token[word] = index\n",
        "                        self.token_by_index.append(word)\n",
        "        self.compute_token_prob()\n",
        "                        \n",
        "    def compute_token_prob(self):\n",
        "        words_count = np.array([self.token_freq[token] for token in self.token_by_index])\n",
        "        words_freq = words_count / np.sum(words_count)\n",
        "        \n",
        "        # Following sampling strategy from word2vec paper:\n",
        "        # https://papers.nips.cc/paper/5021-distributed-representations-of-words-and-phrases-and-their-compositionality.pdf\n",
        "        self.token_reject_by_index = 1- np.sqrt(1e-5/words_freq)\n",
        "    \n",
        "    def check_reject(self, word):\n",
        "        return np.random.rand() > self.token_reject_by_index[self.index_by_token[word]]\n",
        "        \n",
        "    def get_random_context(self, context_length=5):\n",
        "        \"\"\"\n",
        "        Returns tuple of center word and list of context words\n",
        "        \"\"\"\n",
        "        sentence_sampled = []\n",
        "        while len(sentence_sampled) <= 2:\n",
        "            sentence_index = np.random.randint(len(self.sentences)) \n",
        "            sentence = self.sentences[sentence_index]\n",
        "            sentence_sampled = [word for word in sentence if self.check_reject(word)]\n",
        "    \n",
        "        center_word_index = np.random.randint(len(sentence_sampled))\n",
        "        \n",
        "        words_before = sentence_sampled[max(center_word_index - context_length//2,0):center_word_index]\n",
        "        words_after = sentence_sampled[center_word_index+1: center_word_index+1+context_length//2]\n",
        "        \n",
        "        return sentence_sampled[center_word_index], words_before+words_after\n",
        "    \n",
        "    def num_tokens(self):\n",
        "        return len(self.token_by_index)\n",
        "        \n",
        "data = StanfordTreeBank()\n",
        "data.load_dataset(\"./stanfordSentimentTreebank/\")\n",
        "\n",
        "print(\"Num tokens:\", data.num_tokens())\n",
        "for i in range(5):\n",
        "    center_word, other_words = data.get_random_context(10)\n",
        "    print(center_word, other_words)"
      ]
    },
    {
      "cell_type": "markdown",
      "metadata": {
        "id": "Eri4TScQneF3"
      },
      "source": [
        "# Имплеменируем PyTorch-style Dataset для Word2Vec\n",
        "\n",
        "Этот Dataset должен сгенерировать много случайных контекстов и превратить их в сэмплы для тренировки.\n",
        "\n",
        "Напоминаем, что word2vec модель получает на вход One-hot вектор слова и тренирует простую сеть для предсказания на его основе соседних слов.\n",
        "Из набора слово-контекст создается N сэмплов (где N - количество слов в контексте):\n",
        "\n",
        "Например:\n",
        "\n",
        "Слово: `orders` и контекст: `['love', 'nicest', 'to', '50-year']` создадут 4 сэмпла:\n",
        "- input: `orders`, target: `love`\n",
        "- input: `orders`, target: `nicest`\n",
        "- input: `orders`, target: `to`\n",
        "- input: `orders`, target: `50-year`\n",
        "\n",
        "Все слова на входе и на выходе закодированы через one-hot encoding, с размером вектора равным количеству токенов."
      ]
    },
    {
      "cell_type": "code",
      "execution_count": null,
      "metadata": {
        "id": "geABp7-VneF4",
        "colab": {
          "base_uri": "https://localhost:8080/"
        },
        "outputId": "6a1f57ff-c6be-48ab-a046-0c45f0d1da73"
      },
      "outputs": [
        {
          "output_type": "stream",
          "name": "stdout",
          "text": [
            "Sample - input: tensor([0., 0., 0.,  ..., 0., 0., 0.]), target: 7914\n"
          ]
        }
      ],
      "source": [
        "class Word2VecPlain(Dataset):\n",
        "    '''\n",
        "    PyTorch Dataset for plain Word2Vec.\n",
        "    Accepts StanfordTreebank as data and is able to generate dataset based on\n",
        "    a number of random contexts\n",
        "    '''\n",
        "    def __init__(self, data, num_sample=30000):\n",
        "        '''\n",
        "        Initializes Word2VecPlain, but doesn't generate the samples yet\n",
        "        (for that, use generate_dataset)\n",
        "        Arguments:\n",
        "        data - StanfordTreebank instace\n",
        "        num_contexts - number of random contexts to use when generating a dataset\n",
        "        '''\n",
        "        \n",
        "        # TODO: Implement what you need for other methods!\n",
        "        self.num_tokens = len(data.token_by_index)\n",
        "        self.data = data\n",
        "        self.num_sample = num_sample\n",
        "        self.DataSet = [] \n",
        "    \n",
        "    def generate_dataset(self):\n",
        "        '''\n",
        "        Generates dataset samples from random contexts\n",
        "        Note: there will be more samples than contexts because every context\n",
        "        can generate more than one sample\n",
        "        '''\n",
        "        \n",
        "        # TODO: Implement generating the dataset\n",
        "        # You should sample num_contexts contexts from the data and turn them into samples\n",
        "        # Note you will have several samples from one context\n",
        "        \n",
        "        for i in range(self.num_sample):\n",
        "          central_word, contex = self.data.get_random_context(3)\n",
        "\n",
        "          input_vector = torch.zeros(self.num_tokens)\n",
        "          index = self.data.index_by_token[central_word]\n",
        "          input_vector[index] = 1\n",
        "\n",
        "          for j in contex:\n",
        "            sample = []\n",
        "\n",
        "            output_index = self.data.index_by_token[j]\n",
        "\n",
        "            sample.append(input_vector)\n",
        "            sample.append(output_index)\n",
        "            \n",
        "            self.DataSet.append(sample)\n",
        "\n",
        "    def __len__(self):\n",
        "        '''\n",
        "        Returns total number of samples\n",
        "        '''\n",
        "        # TODO: Return the number of samples\n",
        "        return len(self.DataSet)\n",
        "    \n",
        "    def __getitem__(self, index):\n",
        "        '''\n",
        "        Returns i-th sample\n",
        "        \n",
        "        Return values:\n",
        "        input_vector - torch.Tensor with one-hot representation of the input vector\n",
        "        output_index - index of the target word (not torch.Tensor!)\n",
        "        '''\n",
        "        if torch.is_tensor(index):\n",
        "          index.tolist()\n",
        "\n",
        "        return self.DataSet[index][0], self.DataSet[index][1]\n",
        "        # TODO: Generate tuple of 2 return arguments for i-th sample   \n",
        "\n",
        "\n",
        "dataset = Word2VecPlain(data, 10)\n",
        "dataset.generate_dataset()\n",
        "input_vector, target = dataset[3]\n",
        "print(\"Sample - input: %s, target: %s\" % (input_vector, int(target))) # target should be able to convert to int\n",
        "assert isinstance(input_vector, torch.Tensor)\n",
        "assert torch.sum(input_vector) == 1.0\n",
        "assert input_vector.shape[0] == data.num_tokens()"
      ]
    },
    {
      "cell_type": "code",
      "source": [
        "class Word2VecPlain(Dataset):\n",
        "    '''\n",
        "    PyTorch Dataset for plain Word2Vec.\n",
        "    Accepts StanfordTreebank as data and is able to generate dataset based on\n",
        "    a number of random contexts\n",
        "    '''\n",
        "    def __init__(self, data, num_contexts=30000):\n",
        "        '''\n",
        "        Initializes Word2VecPlain, but doesn't generate the samples yet\n",
        "        (for that, use generate_dataset)\n",
        "        Arguments:\n",
        "        data - StanfordTreebank instace\n",
        "        num_contexts - number of random contexts to use when generating a dataset\n",
        "        '''\n",
        "        # TODO: Implement what you need for other methods!\n",
        "        self.data = data\n",
        "        self.num_tokens = data.num_tokens()\n",
        "        self.index_by_token = data.index_by_token\n",
        "        self.num_contexts = num_contexts\n",
        "        self.generated_samples = []\n",
        "    \n",
        "    def generate_dataset(self):\n",
        "        '''\n",
        "        Generates dataset samples from random contexts\n",
        "        Note: there will be more samples than contexts because every context\n",
        "        can generate more than one sample\n",
        "        '''\n",
        "        # TODO: Implement generating the dataset\n",
        "        # You should sample num_contexts contexts from the data and turn them into samples\n",
        "        # Note you will have several samples from one context        \n",
        "        for i in range(self.num_contexts):\n",
        "            center_word, other_words = self.data.get_random_context(3)\n",
        "            center_word_index = self.index_by_token[center_word]\n",
        "            input_vector = torch.zeros(self.num_tokens)\n",
        "            input_vector[center_word_index] = 1\n",
        "            \n",
        "            for output_word in (other_words):\n",
        "                sample = []\n",
        "                output_word_index = self.index_by_token[output_word]\n",
        "                sample.append(input_vector)\n",
        "                sample.append(output_word_index)\n",
        "                \n",
        "                self.generated_samples.append(sample)\n",
        "            \n",
        "        \n",
        "    def __len__(self):\n",
        "        '''\n",
        "        Returns total number of samples\n",
        "        '''\n",
        "        # TODO: Return the number of samples\n",
        "        return len(self.generated_samples)\n",
        "    \n",
        "    def __getitem__(self, index):\n",
        "        '''\n",
        "        Returns i-th sample\n",
        "        \n",
        "        Return values:\n",
        "        input_vector - torch.Tensor with one-hot representation of the input vector\n",
        "        output_index - index of the target word (not torch.Tensor!)\n",
        "        '''\n",
        "        # TODO: Generate tuple of 2 return arguments for i-th sample\n",
        "        sample = self.generated_samples[index]\n",
        "        input_vector, output_index = sample[0], sample[1]\n",
        "        \n",
        "        return input_vector, output_index"
      ],
      "metadata": {
        "id": "Xqs5mAg7TCNt"
      },
      "execution_count": null,
      "outputs": []
    },
    {
      "cell_type": "markdown",
      "metadata": {
        "id": "q62Gp_zdneF5"
      },
      "source": [
        "# Создаем модель и тренируем ее"
      ]
    },
    {
      "cell_type": "code",
      "execution_count": null,
      "metadata": {
        "id": "W3AYRvCVneF5",
        "colab": {
          "base_uri": "https://localhost:8080/"
        },
        "outputId": "e5c1f55a-e3d9-42e8-fed9-ae9f385a47ec"
      },
      "outputs": [
        {
          "output_type": "execute_result",
          "data": {
            "text/plain": [
              "Sequential(\n",
              "  (0): Linear(in_features=19538, out_features=10, bias=False)\n",
              "  (1): Linear(in_features=10, out_features=19538, bias=False)\n",
              ")"
            ]
          },
          "metadata": {},
          "execution_count": 6
        }
      ],
      "source": [
        "# Create the usual PyTorch structures\n",
        "dataset = Word2VecPlain(data, 30000)\n",
        "dataset.generate_dataset()\n",
        "\n",
        "# We'll be training very small word vectors!\n",
        "wordvec_dim = 10\n",
        "\n",
        "# We can use a standard sequential model for this\n",
        "nn_model = nn.Sequential(\n",
        "            nn.Linear(dataset.num_tokens, wordvec_dim, bias=False),\n",
        "            nn.Linear(wordvec_dim, dataset.num_tokens, bias=False), \n",
        "         )\n",
        "nn_model.type(torch.FloatTensor)"
      ]
    },
    {
      "cell_type": "code",
      "execution_count": null,
      "metadata": {
        "id": "lZtEnOpaneF5"
      },
      "outputs": [],
      "source": [
        "def extract_word_vectors(nn_model):\n",
        "    '''\n",
        "    Extracts word vectors from the model\n",
        "    \n",
        "    Returns:\n",
        "    input_vectors: torch.Tensor with dimensions (num_tokens, num_dimensions)\n",
        "    output_vectors: torch.Tensor with dimensions (num_tokens, num_dimensions)\n",
        "    '''\n",
        "    # TODO: Implement extracting word vectors from param weights\n",
        "    # return tuple of input vectors and output vectos \n",
        "    # Hint: you can access weights as Tensors through nn.Linear class attributes\n",
        "\n",
        "    untrained_input_vectors = nn_model[0].weight.T\n",
        "    untrained_output_vectors = nn_model[1].weight\n",
        "\n",
        "    return untrained_input_vectors,  untrained_output_vectors\n",
        "    \n",
        "untrained_input_vectors, untrained_output_vectors = extract_word_vectors(nn_model)\n",
        "assert untrained_input_vectors.shape == (data.num_tokens(), wordvec_dim)\n",
        "assert untrained_output_vectors.shape == (data.num_tokens(), wordvec_dim)"
      ]
    },
    {
      "cell_type": "code",
      "execution_count": null,
      "metadata": {
        "id": "tH4mL9UJneF6"
      },
      "outputs": [],
      "source": [
        "def train_model(model, dataset, train_loader, optimizer, scheduler, num_epochs):\n",
        "    '''\n",
        "    Trains plain word2vec using cross-entropy loss and regenerating dataset every epoch\n",
        "    \n",
        "    Returns:\n",
        "    loss_history, train_history\n",
        "    '''\n",
        "    device = torch.device('cuda:0')\n",
        "\n",
        "    loss = nn.CrossEntropyLoss().type(torch.FloatTensor)\n",
        "    model = model.to(device)\n",
        "\n",
        "    loss_history = []\n",
        "    train_history = []\n",
        "    for epoch in range(num_epochs):\n",
        "\n",
        "        model.train() # Enter train mode \n",
        "        dataset.generate_dataset() # Regenerate dataset every epoch\n",
        "        \n",
        "\n",
        "        acum_loss = 0\n",
        "        predict_true = 0\n",
        "        totalsample = 0\n",
        "\n",
        "        for iter, (x, y) in enumerate(train_loader):\n",
        "          x_gpu = x.to(device)\n",
        "          y_gpu = y.to(device)\n",
        "\n",
        "          predict = model(x_gpu)\n",
        "          losses = loss(predict, y_gpu)\n",
        "          \n",
        "          optimizer.zero_grad()\n",
        "          losses.backward()\n",
        "          optimizer.step()\n",
        "\n",
        "          indices = torch.argmax(predict, 1)\n",
        "\n",
        "          acum_loss += losses.item()\n",
        "          predict_true += torch.sum(y_gpu == indices)\n",
        "          totalsample += len(indices)\n",
        "\n",
        "        ave_loss = acum_loss / (iter + 1)\n",
        "        train_accuracy = (predict_true / totalsample).item()\n",
        "\n",
        "       if scheduler:\n",
        "         scheduler.step() \n",
        "        loss_history.append(ave_loss)\n",
        "        train_history.append(train_accuracy)\n",
        "        # TODO Implement training for this model\n",
        "        # Note we don't have any validation set here because our purpose is the word vectors,\n",
        "        # not the predictive performance of the model\n",
        "        #\n",
        "        # And don't forget to step the learing rate scheduler!  \n",
        "        print(\"Epoch %i, Average loss: %f, Train accuracy: %f\" % (epoch, ave_loss, train_accuracy))\n",
        "        \n",
        "    return loss_history, train_history"
      ]
    },
    {
      "cell_type": "markdown",
      "metadata": {
        "id": "gBWxg5kFneF6"
      },
      "source": [
        "# Ну и наконец тренировка!\n",
        "\n",
        "Добейтесь значения ошибки меньше **8.0**."
      ]
    },
    {
      "cell_type": "code",
      "execution_count": null,
      "metadata": {
        "id": "Mxap5HsXneF7",
        "colab": {
          "base_uri": "https://localhost:8080/"
        },
        "outputId": "5ed477bc-b084-4a72-853a-0e67dddd5386"
      },
      "outputs": [
        {
          "output_type": "stream",
          "name": "stdout",
          "text": [
            "Epoch 0, Average loss: 9.880045, Train accuracy: 0.000818\n",
            "Epoch 1, Average loss: 9.873083, Train accuracy: 0.134304\n",
            "Epoch 2, Average loss: 9.863538, Train accuracy: 0.189752\n",
            "Epoch 3, Average loss: 9.849380, Train accuracy: 0.217563\n",
            "Epoch 4, Average loss: 9.829695, Train accuracy: 0.235938\n",
            "Epoch 5, Average loss: 9.801393, Train accuracy: 0.253282\n",
            "Epoch 6, Average loss: 9.760170, Train accuracy: 0.259711\n",
            "Epoch 7, Average loss: 9.695096, Train accuracy: 0.258841\n",
            "Epoch 8, Average loss: 9.595100, Train accuracy: 0.236783\n",
            "Epoch 9, Average loss: 9.459666, Train accuracy: 0.197204\n",
            "Epoch 10, Average loss: 9.285374, Train accuracy: 0.155523\n",
            "Epoch 11, Average loss: 9.075971, Train accuracy: 0.114388\n",
            "Epoch 12, Average loss: 8.850537, Train accuracy: 0.082328\n",
            "Epoch 13, Average loss: 8.587171, Train accuracy: 0.055478\n",
            "Epoch 14, Average loss: 8.334176, Train accuracy: 0.040390\n",
            "Epoch 15, Average loss: 8.097403, Train accuracy: 0.034483\n",
            "Epoch 16, Average loss: 7.888744, Train accuracy: 0.027967\n",
            "Epoch 17, Average loss: 7.712501, Train accuracy: 0.023665\n",
            "Epoch 18, Average loss: 7.577439, Train accuracy: 0.022758\n",
            "Epoch 19, Average loss: 7.471824, Train accuracy: 0.021869\n",
            "Epoch 20, Average loss: 7.396235, Train accuracy: 0.020997\n",
            "Epoch 21, Average loss: 7.327776, Train accuracy: 0.021456\n",
            "Epoch 22, Average loss: 7.277667, Train accuracy: 0.024453\n",
            "Epoch 23, Average loss: 7.223131, Train accuracy: 0.023552\n",
            "Epoch 24, Average loss: 7.189164, Train accuracy: 0.023975\n",
            "Epoch 25, Average loss: 7.128036, Train accuracy: 0.026250\n",
            "Epoch 26, Average loss: 7.127086, Train accuracy: 0.027194\n",
            "Epoch 27, Average loss: 7.063275, Train accuracy: 0.031863\n",
            "Epoch 28, Average loss: 7.027850, Train accuracy: 0.032787\n",
            "Epoch 29, Average loss: 6.992701, Train accuracy: 0.036079\n",
            "Epoch 30, Average loss: 6.956152, Train accuracy: 0.037522\n",
            "Epoch 31, Average loss: 6.920330, Train accuracy: 0.041937\n",
            "Epoch 32, Average loss: 6.885911, Train accuracy: 0.042665\n",
            "Epoch 33, Average loss: 6.844915, Train accuracy: 0.044612\n",
            "Epoch 34, Average loss: 6.799156, Train accuracy: 0.047126\n",
            "Epoch 35, Average loss: 6.751171, Train accuracy: 0.051224\n",
            "Epoch 36, Average loss: 6.701251, Train accuracy: 0.053047\n",
            "Epoch 37, Average loss: 6.648534, Train accuracy: 0.054718\n",
            "Epoch 38, Average loss: 6.591752, Train accuracy: 0.059768\n",
            "Epoch 39, Average loss: 6.533110, Train accuracy: 0.063187\n",
            "Epoch 40, Average loss: 6.471887, Train accuracy: 0.066521\n",
            "Epoch 41, Average loss: 6.406105, Train accuracy: 0.071429\n",
            "Epoch 42, Average loss: 6.345469, Train accuracy: 0.078863\n",
            "Epoch 43, Average loss: 6.278095, Train accuracy: 0.084574\n",
            "Epoch 44, Average loss: 6.205408, Train accuracy: 0.090765\n",
            "Epoch 45, Average loss: 6.133427, Train accuracy: 0.097957\n",
            "Epoch 46, Average loss: 6.056298, Train accuracy: 0.101299\n",
            "Epoch 47, Average loss: 5.992043, Train accuracy: 0.108080\n",
            "Epoch 48, Average loss: 5.918571, Train accuracy: 0.112583\n",
            "Epoch 49, Average loss: 5.848276, Train accuracy: 0.120707\n",
            "Epoch 0, Average loss: 9.880037, Train accuracy: 0.000502\n",
            "Epoch 1, Average loss: 9.869158, Train accuracy: 0.048355\n",
            "Epoch 2, Average loss: 9.799018, Train accuracy: 0.084117\n",
            "Epoch 3, Average loss: 9.528766, Train accuracy: 0.089391\n",
            "Epoch 4, Average loss: 8.845563, Train accuracy: 0.089712\n",
            "Epoch 5, Average loss: 7.816106, Train accuracy: 0.066731\n",
            "Epoch 6, Average loss: 7.080178, Train accuracy: 0.059106\n",
            "Epoch 7, Average loss: 6.597742, Train accuracy: 0.079085\n",
            "Epoch 8, Average loss: 6.126803, Train accuracy: 0.106755\n",
            "Epoch 9, Average loss: 5.632475, Train accuracy: 0.131148\n",
            "Epoch 10, Average loss: 5.132663, Train accuracy: 0.162639\n",
            "Epoch 11, Average loss: 4.641944, Train accuracy: 0.203320\n",
            "Epoch 12, Average loss: 4.183814, Train accuracy: 0.258124\n",
            "Epoch 13, Average loss: 3.700990, Train accuracy: 0.306642\n",
            "Epoch 14, Average loss: 3.326090, Train accuracy: 0.349436\n",
            "Epoch 15, Average loss: 3.022056, Train accuracy: 0.385926\n",
            "Epoch 16, Average loss: 2.752480, Train accuracy: 0.417000\n",
            "Epoch 17, Average loss: 2.538433, Train accuracy: 0.438604\n",
            "Epoch 18, Average loss: 2.298747, Train accuracy: 0.453907\n",
            "Epoch 19, Average loss: 2.179644, Train accuracy: 0.464660\n",
            "Epoch 20, Average loss: 2.054634, Train accuracy: 0.477450\n",
            "Epoch 21, Average loss: 1.972073, Train accuracy: 0.480827\n",
            "Epoch 22, Average loss: 1.836658, Train accuracy: 0.480753\n",
            "Epoch 23, Average loss: 1.787149, Train accuracy: 0.483008\n",
            "Epoch 24, Average loss: 1.738310, Train accuracy: 0.483312\n",
            "Epoch 25, Average loss: 1.705083, Train accuracy: 0.482368\n",
            "Epoch 26, Average loss: 1.616700, Train accuracy: 0.481636\n",
            "Epoch 27, Average loss: 1.611079, Train accuracy: 0.480713\n",
            "Epoch 28, Average loss: 1.591297, Train accuracy: 0.480016\n",
            "Epoch 29, Average loss: 1.581695, Train accuracy: 0.476463\n",
            "Epoch 30, Average loss: 1.511271, Train accuracy: 0.477412\n",
            "Epoch 31, Average loss: 1.492902, Train accuracy: 0.474535\n",
            "Epoch 32, Average loss: 1.477848, Train accuracy: 0.472122\n",
            "Epoch 33, Average loss: 1.487647, Train accuracy: 0.474313\n",
            "Epoch 34, Average loss: 1.498562, Train accuracy: 0.473684\n",
            "Epoch 35, Average loss: 1.476898, Train accuracy: 0.471097\n",
            "Epoch 36, Average loss: 1.425961, Train accuracy: 0.469092\n",
            "Epoch 37, Average loss: 1.456274, Train accuracy: 0.470451\n",
            "Epoch 38, Average loss: 1.466295, Train accuracy: 0.469838\n",
            "Epoch 39, Average loss: 1.539032, Train accuracy: 0.469819\n",
            "Epoch 40, Average loss: 1.434191, Train accuracy: 0.469419\n",
            "Epoch 41, Average loss: 1.438031, Train accuracy: 0.466211\n",
            "Epoch 42, Average loss: 1.468189, Train accuracy: 0.465283\n",
            "Epoch 43, Average loss: 1.453702, Train accuracy: 0.465491\n",
            "Epoch 44, Average loss: 1.468453, Train accuracy: 0.461223\n",
            "Epoch 45, Average loss: 1.420794, Train accuracy: 0.460882\n",
            "Epoch 46, Average loss: 1.447655, Train accuracy: 0.458763\n",
            "Epoch 47, Average loss: 1.465845, Train accuracy: 0.458074\n",
            "Epoch 48, Average loss: 1.482711, Train accuracy: 0.460502\n",
            "Epoch 49, Average loss: 1.488805, Train accuracy: 0.459841\n",
            "Epoch 0, Average loss: 9.880071, Train accuracy: 0.000000\n",
            "Epoch 1, Average loss: 9.869976, Train accuracy: 0.047568\n",
            "Epoch 2, Average loss: 9.820295, Train accuracy: 0.092073\n",
            "Epoch 3, Average loss: 9.611145, Train accuracy: 0.092999\n",
            "Epoch 4, Average loss: 9.017114, Train accuracy: 0.073514\n",
            "Epoch 5, Average loss: 8.224683, Train accuracy: 0.050017\n",
            "Epoch 6, Average loss: 7.681292, Train accuracy: 0.041449\n",
            "Epoch 7, Average loss: 7.348596, Train accuracy: 0.049515\n",
            "Epoch 8, Average loss: 7.006348, Train accuracy: 0.064372\n",
            "Epoch 9, Average loss: 6.675489, Train accuracy: 0.086644\n",
            "Epoch 10, Average loss: 6.293278, Train accuracy: 0.104457\n",
            "Epoch 11, Average loss: 5.935462, Train accuracy: 0.123139\n",
            "Epoch 12, Average loss: 5.543863, Train accuracy: 0.143531\n",
            "Epoch 13, Average loss: 5.194322, Train accuracy: 0.169963\n",
            "Epoch 14, Average loss: 4.867024, Train accuracy: 0.196464\n",
            "Epoch 15, Average loss: 4.506067, Train accuracy: 0.220564\n",
            "Epoch 16, Average loss: 4.223147, Train accuracy: 0.245793\n",
            "Epoch 17, Average loss: 3.895033, Train accuracy: 0.270341\n",
            "Epoch 18, Average loss: 3.646753, Train accuracy: 0.289912\n",
            "Epoch 19, Average loss: 3.368191, Train accuracy: 0.311342\n",
            "Epoch 20, Average loss: 3.167808, Train accuracy: 0.343033\n",
            "Epoch 21, Average loss: 2.989912, Train accuracy: 0.367727\n",
            "Epoch 22, Average loss: 2.778636, Train accuracy: 0.390790\n",
            "Epoch 23, Average loss: 2.652610, Train accuracy: 0.414758\n",
            "Epoch 24, Average loss: 2.475712, Train accuracy: 0.433819\n",
            "Epoch 25, Average loss: 2.380917, Train accuracy: 0.442974\n",
            "Epoch 26, Average loss: 2.232082, Train accuracy: 0.451836\n",
            "Epoch 27, Average loss: 2.175800, Train accuracy: 0.459906\n",
            "Epoch 28, Average loss: 2.114796, Train accuracy: 0.466791\n",
            "Epoch 29, Average loss: 2.002139, Train accuracy: 0.468335\n",
            "Epoch 30, Average loss: 1.988965, Train accuracy: 0.470335\n",
            "Epoch 31, Average loss: 1.888057, Train accuracy: 0.468053\n",
            "Epoch 32, Average loss: 1.864388, Train accuracy: 0.468208\n",
            "Epoch 33, Average loss: 1.791549, Train accuracy: 0.468968\n",
            "Epoch 34, Average loss: 1.783415, Train accuracy: 0.465964\n",
            "Epoch 35, Average loss: 1.773767, Train accuracy: 0.462691\n",
            "Epoch 36, Average loss: 1.711845, Train accuracy: 0.462411\n",
            "Epoch 37, Average loss: 1.729243, Train accuracy: 0.459644\n",
            "Epoch 38, Average loss: 1.643373, Train accuracy: 0.457902\n",
            "Epoch 39, Average loss: 1.660257, Train accuracy: 0.457831\n",
            "Epoch 40, Average loss: 1.661304, Train accuracy: 0.456541\n",
            "Epoch 41, Average loss: 1.597227, Train accuracy: 0.458734\n",
            "Epoch 42, Average loss: 1.607146, Train accuracy: 0.456761\n",
            "Epoch 43, Average loss: 1.564212, Train accuracy: 0.455831\n",
            "Epoch 44, Average loss: 1.563076, Train accuracy: 0.455042\n",
            "Epoch 45, Average loss: 1.507700, Train accuracy: 0.455924\n",
            "Epoch 46, Average loss: 1.523077, Train accuracy: 0.454287\n",
            "Epoch 47, Average loss: 1.472291, Train accuracy: 0.454752\n",
            "Epoch 48, Average loss: 1.504130, Train accuracy: 0.453544\n",
            "Epoch 49, Average loss: 1.464864, Train accuracy: 0.453600\n",
            "Epoch 0, Average loss: 9.880098, Train accuracy: 0.000000\n",
            "Epoch 1, Average loss: 9.866418, Train accuracy: 0.035694\n",
            "Epoch 2, Average loss: 9.759500, Train accuracy: 0.067721\n",
            "Epoch 3, Average loss: 9.322433, Train accuracy: 0.068766\n",
            "Epoch 4, Average loss: 8.396725, Train accuracy: 0.061314\n",
            "Epoch 5, Average loss: 7.524274, Train accuracy: 0.064366\n",
            "Epoch 6, Average loss: 6.850991, Train accuracy: 0.079105\n",
            "Epoch 7, Average loss: 6.239753, Train accuracy: 0.108725\n",
            "Epoch 8, Average loss: 5.610364, Train accuracy: 0.143939\n",
            "Epoch 9, Average loss: 5.028076, Train accuracy: 0.182161\n",
            "Epoch 10, Average loss: 4.490225, Train accuracy: 0.213251\n",
            "Epoch 11, Average loss: 3.965809, Train accuracy: 0.242117\n",
            "Epoch 12, Average loss: 3.536806, Train accuracy: 0.279064\n",
            "Epoch 13, Average loss: 3.162354, Train accuracy: 0.322299\n",
            "Epoch 14, Average loss: 2.809182, Train accuracy: 0.374571\n",
            "Epoch 15, Average loss: 2.546840, Train accuracy: 0.409879\n",
            "Epoch 16, Average loss: 2.332119, Train accuracy: 0.430403\n",
            "Epoch 17, Average loss: 2.116724, Train accuracy: 0.446820\n",
            "Epoch 18, Average loss: 1.986678, Train accuracy: 0.458842\n",
            "Epoch 19, Average loss: 1.884560, Train accuracy: 0.465736\n",
            "Epoch 20, Average loss: 1.761573, Train accuracy: 0.466134\n",
            "Epoch 21, Average loss: 1.691116, Train accuracy: 0.468189\n",
            "Epoch 22, Average loss: 1.678078, Train accuracy: 0.468080\n",
            "Epoch 23, Average loss: 1.562247, Train accuracy: 0.468988\n",
            "Epoch 24, Average loss: 1.529787, Train accuracy: 0.468877\n",
            "Epoch 25, Average loss: 1.513158, Train accuracy: 0.467860\n",
            "Epoch 26, Average loss: 1.437428, Train accuracy: 0.465729\n",
            "Epoch 27, Average loss: 1.431777, Train accuracy: 0.464732\n",
            "Epoch 28, Average loss: 1.420167, Train accuracy: 0.463378\n",
            "Epoch 29, Average loss: 1.415268, Train accuracy: 0.461443\n",
            "Epoch 30, Average loss: 1.372998, Train accuracy: 0.459620\n",
            "Epoch 31, Average loss: 1.370078, Train accuracy: 0.458036\n",
            "Epoch 32, Average loss: 1.315972, Train accuracy: 0.457087\n",
            "Epoch 33, Average loss: 1.323944, Train accuracy: 0.456522\n",
            "Epoch 34, Average loss: 1.327597, Train accuracy: 0.453771\n",
            "Epoch 35, Average loss: 1.287113, Train accuracy: 0.452144\n",
            "Epoch 36, Average loss: 1.306674, Train accuracy: 0.452352\n",
            "Epoch 37, Average loss: 1.328465, Train accuracy: 0.453497\n",
            "Epoch 38, Average loss: 1.276217, Train accuracy: 0.452826\n",
            "Epoch 39, Average loss: 1.294525, Train accuracy: 0.453028\n",
            "Epoch 40, Average loss: 1.320807, Train accuracy: 0.450724\n",
            "Epoch 41, Average loss: 1.362891, Train accuracy: 0.451987\n",
            "Epoch 42, Average loss: 1.332421, Train accuracy: 0.450518\n",
            "Epoch 43, Average loss: 1.331957, Train accuracy: 0.451560\n",
            "Epoch 44, Average loss: 1.341524, Train accuracy: 0.449404\n",
            "Epoch 45, Average loss: 1.312982, Train accuracy: 0.450268\n",
            "Epoch 46, Average loss: 1.317138, Train accuracy: 0.451231\n",
            "Epoch 47, Average loss: 1.332049, Train accuracy: 0.452442\n",
            "Epoch 48, Average loss: 1.301697, Train accuracy: 0.454231\n",
            "Epoch 49, Average loss: 1.324108, Train accuracy: 0.454399\n",
            "Epoch 0, Average loss: 9.880100, Train accuracy: 0.000686\n",
            "Epoch 1, Average loss: 9.866346, Train accuracy: 0.042160\n",
            "Epoch 2, Average loss: 9.759873, Train accuracy: 0.062017\n",
            "Epoch 3, Average loss: 9.310164, Train accuracy: 0.065626\n",
            "Epoch 4, Average loss: 8.438322, Train accuracy: 0.061570\n",
            "Epoch 5, Average loss: 7.631962, Train accuracy: 0.063328\n",
            "Epoch 6, Average loss: 7.029296, Train accuracy: 0.078989\n",
            "Epoch 7, Average loss: 6.481167, Train accuracy: 0.104993\n",
            "Epoch 8, Average loss: 5.941676, Train accuracy: 0.134355\n",
            "Epoch 9, Average loss: 5.422599, Train accuracy: 0.169432\n",
            "Epoch 10, Average loss: 4.913185, Train accuracy: 0.198677\n",
            "Epoch 11, Average loss: 4.457787, Train accuracy: 0.221270\n",
            "Epoch 12, Average loss: 4.044668, Train accuracy: 0.241462\n",
            "Epoch 13, Average loss: 3.680940, Train accuracy: 0.265444\n",
            "Epoch 14, Average loss: 3.303760, Train accuracy: 0.298520\n",
            "Epoch 15, Average loss: 3.010151, Train accuracy: 0.337527\n",
            "Epoch 16, Average loss: 2.763720, Train accuracy: 0.368432\n",
            "Epoch 17, Average loss: 2.524539, Train accuracy: 0.396426\n",
            "Epoch 18, Average loss: 2.326323, Train accuracy: 0.415021\n",
            "Epoch 19, Average loss: 2.178203, Train accuracy: 0.429763\n",
            "Epoch 20, Average loss: 2.049616, Train accuracy: 0.438073\n",
            "Epoch 21, Average loss: 1.950911, Train accuracy: 0.442508\n",
            "Epoch 22, Average loss: 1.825348, Train accuracy: 0.449788\n",
            "Epoch 23, Average loss: 1.748301, Train accuracy: 0.450591\n",
            "Epoch 24, Average loss: 1.684749, Train accuracy: 0.451484\n",
            "Epoch 25, Average loss: 1.640104, Train accuracy: 0.451342\n",
            "Epoch 26, Average loss: 1.606749, Train accuracy: 0.450669\n",
            "Epoch 27, Average loss: 1.526609, Train accuracy: 0.448729\n",
            "Epoch 28, Average loss: 1.498146, Train accuracy: 0.447445\n",
            "Epoch 29, Average loss: 1.463755, Train accuracy: 0.446147\n",
            "Epoch 30, Average loss: 1.439309, Train accuracy: 0.445201\n",
            "Epoch 31, Average loss: 1.430645, Train accuracy: 0.443736\n",
            "Epoch 32, Average loss: 1.379348, Train accuracy: 0.443419\n",
            "Epoch 33, Average loss: 1.365816, Train accuracy: 0.442583\n",
            "Epoch 34, Average loss: 1.350865, Train accuracy: 0.441230\n",
            "Epoch 35, Average loss: 1.352031, Train accuracy: 0.441714\n",
            "Epoch 36, Average loss: 1.312878, Train accuracy: 0.440777\n",
            "Epoch 37, Average loss: 1.313003, Train accuracy: 0.441171\n",
            "Epoch 38, Average loss: 1.317031, Train accuracy: 0.442567\n",
            "Epoch 39, Average loss: 1.333827, Train accuracy: 0.441860\n",
            "Epoch 40, Average loss: 1.327545, Train accuracy: 0.441447\n",
            "Epoch 41, Average loss: 1.341967, Train accuracy: 0.439554\n",
            "Epoch 42, Average loss: 1.307428, Train accuracy: 0.437959\n",
            "Epoch 43, Average loss: 1.322851, Train accuracy: 0.437339\n",
            "Epoch 44, Average loss: 1.339448, Train accuracy: 0.436686\n",
            "Epoch 45, Average loss: 1.352829, Train accuracy: 0.435988\n",
            "Epoch 46, Average loss: 1.303300, Train accuracy: 0.436164\n",
            "Epoch 47, Average loss: 1.308958, Train accuracy: 0.436694\n",
            "Epoch 48, Average loss: 1.304911, Train accuracy: 0.436502\n",
            "Epoch 49, Average loss: 1.317316, Train accuracy: 0.435728\n"
          ]
        }
      ],
      "source": [
        "# Finally, let's train the model!\n",
        "\n",
        "# TODO: We use placeholder values for hyperparameters - you will need to find better values!\n",
        "best_loss = float('inf')\n",
        "best_model = None\n",
        "best_optim = None\n",
        "end_to_loss, end_to_train = [], []\n",
        "\n",
        "for i in range(5):\n",
        "  lr = np.random.uniform(1e-2, 5e-4)\n",
        "  step_size = np.random.choice([2,4,6,8,10])\n",
        "  batch_size = int(np.random.choice([16,20,24,28]))\n",
        "  gamma = np.random.uniform(0.5, 0.9)\n",
        "\n",
        "  wordvec_dim = 15\n",
        "\n",
        "# We can use a standard sequential model for this\n",
        "  nn_model = nn.Sequential(\n",
        "            nn.Linear(dataset.num_tokens, wordvec_dim, bias=False),\n",
        "            nn.Linear(wordvec_dim, dataset.num_tokens, bias=False), \n",
        "         )\n",
        "  nn_model.type(torch.FloatTensor)\n",
        "\n",
        "  optimizer = optim.Adam(nn_model.parameters(), lr=lr, weight_decay = lr * 0.001)\n",
        "  scheduler = optim.lr_scheduler.StepLR(optimizer, step_size=step_size, gamma=gamma)\n",
        "  train_loader = torch.utils.data.DataLoader(dataset, batch_size=batch_size)\n",
        "\n",
        "  loss_history, train_history = train_model(nn_model, dataset, train_loader, optimizer, scheduler, 50)\n",
        "\n",
        "  if loss_history[-1] < best_loss:\n",
        "    end_to_loss = loss_history\n",
        "    end_to_train = train_history\n",
        "\n",
        "    best_model = nn_model\n",
        "    best_optim = optimizer\n",
        "\n",
        "    best_loss = loss_history[-1]\n"
      ]
    },
    {
      "cell_type": "code",
      "source": [
        "dataset = Word2VecPlain(data, 30000)\n",
        "dataset.generate_dataset()\n",
        "\n",
        "wordvec_dim = 15\n",
        "\n",
        "nn_model = nn.Sequential(\n",
        "          nn.Linear(dataset.num_tokens, wordvec_dim, bias=False),\n",
        "          nn.Linear(wordvec_dim, dataset.num_tokens, bias=False), \n",
        "        )\n",
        "\n",
        "nn_model.type(torch.FloatTensor)\n",
        "\n",
        "optimizer = best_optim\n",
        "scheduler = optim.lr_scheduler.StepLR(optimizer, step_size=2, gamma=0.5)\n",
        "train_loader = torch.utils.data.DataLoader(dataset, batch_size = 28)\n",
        "\n",
        "loss_history, train_history = train_model(nn_model, dataset, train_loader, optimizer, scheduler, 15)"
      ],
      "metadata": {
        "id": "Qru2wbTFYVi1"
      },
      "execution_count": null,
      "outputs": []
    },
    {
      "cell_type": "code",
      "execution_count": null,
      "metadata": {
        "id": "cQ3JXhnzneF7",
        "colab": {
          "base_uri": "https://localhost:8080/",
          "height": 447
        },
        "outputId": "0e721ddd-bced-4557-ca3b-af9dfae8336e"
      },
      "outputs": [
        {
          "output_type": "execute_result",
          "data": {
            "text/plain": [
              "[<matplotlib.lines.Line2D at 0x7f26f622db10>]"
            ]
          },
          "metadata": {},
          "execution_count": 60
        },
        {
          "output_type": "display_data",
          "data": {
            "text/plain": [
              "<Figure size 640x480 with 2 Axes>"
            ],
            "image/png": "[encoded data removed]"
          },
          "metadata": {}
        }
      ],
      "source": [
        "# Visualize training graphs\n",
        "plt.subplot(211)\n",
        "plt.plot(end_to_loss)\n",
        "plt.subplot(212)\n",
        "plt.plot(end_to_train)"
      ]
    },
    {
      "cell_type": "markdown",
      "metadata": {
        "id": "hP5nLuo-neF7"
      },
      "source": [
        "# Визуализируем вектора для разного вида слов до и после тренировки\n",
        "\n",
        "В случае успешной тренировки вы должны увидеть как вектора слов разных типов (например, знаков препинания, предлогов и остальных) разделяются семантически.\n",
        "\n",
        "Студенты - в качестве выполненного задания присылайте notebook с диаграммами!"
      ]
    },
    {
      "cell_type": "code",
      "execution_count": null,
      "metadata": {
        "id": "rUbkS70xneF8",
        "colab": {
          "base_uri": "https://localhost:8080/",
          "height": 1000
        },
        "outputId": "f560bd0f-3e02-4063-f848-2309183c8093"
      },
      "outputs": [
        {
          "output_type": "display_data",
          "data": {
            "text/plain": [
              "<Figure size 700x700 with 1 Axes>"
            ],
            "image/png": "[encoded data removed]"
          },
          "metadata": {}
        },
        {
          "output_type": "display_data",
          "data": {
            "text/plain": [
              "<Figure size 700x700 with 1 Axes>"
            ],
            "image/png": "[encoded data removed]"
          },
          "metadata": {}
        }
      ],
      "source": [
        "trained_input_vectors, trained_output_vectors = extract_word_vectors(best_model)\n",
        "assert trained_input_vectors.shape == (data.num_tokens(), wordvec_dim)\n",
        "assert trained_output_vectors.shape == (data.num_tokens(), wordvec_dim)\n",
        "\n",
        "def visualize_vectors(input_vectors, output_vectors, title=''):\n",
        "    full_vectors = torch.cat((input_vectors, output_vectors), 0)\n",
        "    full_vectors = full_vectors.cpu().detach().numpy()\n",
        "    wordvec_embedding = PCA(n_components=2).fit_transform(full_vectors)\n",
        "\n",
        "    # Helpful words form CS244D example\n",
        "    # http://cs224d.stanford.edu/assignment1/index.html\n",
        "    visualize_words = {'green': [\"the\", \"a\", \"an\"], \n",
        "                      'blue': [\",\", \".\", \"?\", \"!\", \"``\", \"''\", \"--\"], \n",
        "                      'brown': [\"good\", \"great\", \"cool\", \"brilliant\", \"wonderful\", \n",
        "                              \"well\", \"amazing\", \"worth\", \"sweet\", \"enjoyable\"],\n",
        "                      'orange': [\"boring\", \"bad\", \"waste\", \"dumb\", \"annoying\", \"stupid\"],\n",
        "                      'red': ['tell', 'told', 'said', 'say', 'says', 'tells', 'goes', 'go', 'went']\n",
        "                     }\n",
        "\n",
        "    plt.figure(figsize=(7,7))\n",
        "    plt.suptitle(title)\n",
        "    for color, words in visualize_words.items():\n",
        "        points = np.array([wordvec_embedding[data.index_by_token[w]] for w in words])\n",
        "        for i, word in enumerate(words):\n",
        "            plt.text(points[i, 0], points[i, 1], word, color=color,horizontalalignment='center')\n",
        "        plt.scatter(points[:, 0], points[:, 1], c=color, alpha=0.3, s=0.5)\n",
        "\n",
        "visualize_vectors(untrained_input_vectors, untrained_output_vectors, \"Untrained word vectors\")\n",
        "visualize_vectors(trained_input_vectors, trained_output_vectors, \"Trained word vectors\")"
      ]
    },
    {
      "cell_type": "code",
      "source": [],
      "metadata": {
        "id": "i4kD0l_FFkwv"
      },
      "execution_count": null,
      "outputs": []
    }
  ],
  "metadata": {
    "kernelspec": {
      "display_name": "Python 3",
      "language": "python",
      "name": "python3"
    },
    "language_info": {
      "codemirror_mode": {
        "name": "ipython",
        "version": 3
      },
      "file_extension": ".py",
      "mimetype": "text/x-python",
      "name": "python",
      "nbconvert_exporter": "python",
      "pygments_lexer": "ipython3",
      "version": "3.7.0"
    },
    "colab": {
      "provenance": [],
      "include_colab_link": true
    },
    "accelerator": "GPU",
    "gpuClass": "standard"
  },
  "nbformat": 4,
  "nbformat_minor": 0
}